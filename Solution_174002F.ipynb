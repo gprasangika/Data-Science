{
  "nbformat": 4,
  "nbformat_minor": 0,
  "metadata": {
    "colab": {
      "name": "assignment2-ML.ipynb",
      "provenance": [],
      "collapsed_sections": []
    },
    "kernelspec": {
      "display_name": "Python 3",
      "name": "python3"
    },
    "language_info": {
      "name": "python"
    }
  },
  "cells": [
    {
      "cell_type": "code",
      "metadata": {
        "colab": {
          "base_uri": "https://localhost:8080/"
        },
        "id": "Wn29Ll1jj1gM",
        "outputId": "d96606ee-2b93-43aa-da33-11b745dc644e"
      },
      "source": [
        "#mount gdrive\n",
        "from google.colab import drive\n",
        "drive.mount(\"/content/gdrive\")"
      ],
      "execution_count": 530,
      "outputs": [
        {
          "output_type": "stream",
          "text": [
            "Drive already mounted at /content/gdrive; to attempt to forcibly remount, call drive.mount(\"/content/gdrive\", force_remount=True).\n"
          ],
          "name": "stdout"
        }
      ]
    },
    {
      "cell_type": "code",
      "metadata": {
        "colab": {
          "base_uri": "https://localhost:8080/",
          "height": 383
        },
        "id": "VcZe3MpomQBH",
        "outputId": "1130a2f1-03f9-42d6-a470-16cf0076c56d"
      },
      "source": [
        "#read csv file into a dataframe\n",
        "import pandas as pd\n",
        "df = pd.read_csv('/content/gdrive/My Drive/ML_assignments/banking.csv')\n",
        "\n",
        "df.head(10)\n",
        "#df.dtypes"
      ],
      "execution_count": 531,
      "outputs": [
        {
          "output_type": "execute_result",
          "data": {
            "text/html": [
              "<div>\n",
              "<style scoped>\n",
              "    .dataframe tbody tr th:only-of-type {\n",
              "        vertical-align: middle;\n",
              "    }\n",
              "\n",
              "    .dataframe tbody tr th {\n",
              "        vertical-align: top;\n",
              "    }\n",
              "\n",
              "    .dataframe thead th {\n",
              "        text-align: right;\n",
              "    }\n",
              "</style>\n",
              "<table border=\"1\" class=\"dataframe\">\n",
              "  <thead>\n",
              "    <tr style=\"text-align: right;\">\n",
              "      <th></th>\n",
              "      <th>age</th>\n",
              "      <th>job</th>\n",
              "      <th>marital</th>\n",
              "      <th>education</th>\n",
              "      <th>default</th>\n",
              "      <th>housing</th>\n",
              "      <th>loan</th>\n",
              "      <th>contact</th>\n",
              "      <th>month</th>\n",
              "      <th>day_of_week</th>\n",
              "      <th>duration</th>\n",
              "      <th>campaign</th>\n",
              "      <th>pdays</th>\n",
              "      <th>previous</th>\n",
              "      <th>poutcome</th>\n",
              "      <th>emp_var_rate</th>\n",
              "      <th>cons_price_idx</th>\n",
              "      <th>cons_conf_idx</th>\n",
              "      <th>euribor3m</th>\n",
              "      <th>nr_employed</th>\n",
              "      <th>y</th>\n",
              "    </tr>\n",
              "  </thead>\n",
              "  <tbody>\n",
              "    <tr>\n",
              "      <th>0</th>\n",
              "      <td>44</td>\n",
              "      <td>blue-collar</td>\n",
              "      <td>married</td>\n",
              "      <td>basic.4y</td>\n",
              "      <td>unknown</td>\n",
              "      <td>yes</td>\n",
              "      <td>no</td>\n",
              "      <td>cellular</td>\n",
              "      <td>aug</td>\n",
              "      <td>thu</td>\n",
              "      <td>210</td>\n",
              "      <td>1</td>\n",
              "      <td>999</td>\n",
              "      <td>0</td>\n",
              "      <td>nonexistent</td>\n",
              "      <td>1.4</td>\n",
              "      <td>93.444</td>\n",
              "      <td>-36.1</td>\n",
              "      <td>4.963</td>\n",
              "      <td>5228.1</td>\n",
              "      <td>0</td>\n",
              "    </tr>\n",
              "    <tr>\n",
              "      <th>1</th>\n",
              "      <td>53</td>\n",
              "      <td>technician</td>\n",
              "      <td>married</td>\n",
              "      <td>unknown</td>\n",
              "      <td>no</td>\n",
              "      <td>no</td>\n",
              "      <td>no</td>\n",
              "      <td>cellular</td>\n",
              "      <td>nov</td>\n",
              "      <td>fri</td>\n",
              "      <td>138</td>\n",
              "      <td>1</td>\n",
              "      <td>999</td>\n",
              "      <td>0</td>\n",
              "      <td>nonexistent</td>\n",
              "      <td>-0.1</td>\n",
              "      <td>93.200</td>\n",
              "      <td>-42.0</td>\n",
              "      <td>4.021</td>\n",
              "      <td>5195.8</td>\n",
              "      <td>0</td>\n",
              "    </tr>\n",
              "    <tr>\n",
              "      <th>2</th>\n",
              "      <td>28</td>\n",
              "      <td>management</td>\n",
              "      <td>single</td>\n",
              "      <td>university.degree</td>\n",
              "      <td>no</td>\n",
              "      <td>yes</td>\n",
              "      <td>no</td>\n",
              "      <td>cellular</td>\n",
              "      <td>jun</td>\n",
              "      <td>thu</td>\n",
              "      <td>339</td>\n",
              "      <td>3</td>\n",
              "      <td>6</td>\n",
              "      <td>2</td>\n",
              "      <td>success</td>\n",
              "      <td>-1.7</td>\n",
              "      <td>94.055</td>\n",
              "      <td>-39.8</td>\n",
              "      <td>0.729</td>\n",
              "      <td>4991.6</td>\n",
              "      <td>1</td>\n",
              "    </tr>\n",
              "    <tr>\n",
              "      <th>3</th>\n",
              "      <td>39</td>\n",
              "      <td>services</td>\n",
              "      <td>married</td>\n",
              "      <td>high.school</td>\n",
              "      <td>no</td>\n",
              "      <td>no</td>\n",
              "      <td>no</td>\n",
              "      <td>cellular</td>\n",
              "      <td>apr</td>\n",
              "      <td>fri</td>\n",
              "      <td>185</td>\n",
              "      <td>2</td>\n",
              "      <td>999</td>\n",
              "      <td>0</td>\n",
              "      <td>nonexistent</td>\n",
              "      <td>-1.8</td>\n",
              "      <td>93.075</td>\n",
              "      <td>-47.1</td>\n",
              "      <td>1.405</td>\n",
              "      <td>5099.1</td>\n",
              "      <td>0</td>\n",
              "    </tr>\n",
              "    <tr>\n",
              "      <th>4</th>\n",
              "      <td>55</td>\n",
              "      <td>retired</td>\n",
              "      <td>married</td>\n",
              "      <td>basic.4y</td>\n",
              "      <td>no</td>\n",
              "      <td>yes</td>\n",
              "      <td>no</td>\n",
              "      <td>cellular</td>\n",
              "      <td>aug</td>\n",
              "      <td>fri</td>\n",
              "      <td>137</td>\n",
              "      <td>1</td>\n",
              "      <td>3</td>\n",
              "      <td>1</td>\n",
              "      <td>success</td>\n",
              "      <td>-2.9</td>\n",
              "      <td>92.201</td>\n",
              "      <td>-31.4</td>\n",
              "      <td>0.869</td>\n",
              "      <td>5076.2</td>\n",
              "      <td>1</td>\n",
              "    </tr>\n",
              "    <tr>\n",
              "      <th>5</th>\n",
              "      <td>30</td>\n",
              "      <td>management</td>\n",
              "      <td>divorced</td>\n",
              "      <td>basic.4y</td>\n",
              "      <td>no</td>\n",
              "      <td>yes</td>\n",
              "      <td>no</td>\n",
              "      <td>cellular</td>\n",
              "      <td>jul</td>\n",
              "      <td>tue</td>\n",
              "      <td>68</td>\n",
              "      <td>8</td>\n",
              "      <td>999</td>\n",
              "      <td>0</td>\n",
              "      <td>nonexistent</td>\n",
              "      <td>1.4</td>\n",
              "      <td>93.918</td>\n",
              "      <td>-42.7</td>\n",
              "      <td>4.961</td>\n",
              "      <td>5228.1</td>\n",
              "      <td>0</td>\n",
              "    </tr>\n",
              "    <tr>\n",
              "      <th>6</th>\n",
              "      <td>37</td>\n",
              "      <td>blue-collar</td>\n",
              "      <td>married</td>\n",
              "      <td>basic.4y</td>\n",
              "      <td>no</td>\n",
              "      <td>yes</td>\n",
              "      <td>no</td>\n",
              "      <td>cellular</td>\n",
              "      <td>may</td>\n",
              "      <td>thu</td>\n",
              "      <td>204</td>\n",
              "      <td>1</td>\n",
              "      <td>999</td>\n",
              "      <td>0</td>\n",
              "      <td>nonexistent</td>\n",
              "      <td>-1.8</td>\n",
              "      <td>92.893</td>\n",
              "      <td>-46.2</td>\n",
              "      <td>1.327</td>\n",
              "      <td>5099.1</td>\n",
              "      <td>0</td>\n",
              "    </tr>\n",
              "    <tr>\n",
              "      <th>7</th>\n",
              "      <td>39</td>\n",
              "      <td>blue-collar</td>\n",
              "      <td>divorced</td>\n",
              "      <td>basic.9y</td>\n",
              "      <td>no</td>\n",
              "      <td>yes</td>\n",
              "      <td>no</td>\n",
              "      <td>cellular</td>\n",
              "      <td>may</td>\n",
              "      <td>fri</td>\n",
              "      <td>191</td>\n",
              "      <td>1</td>\n",
              "      <td>999</td>\n",
              "      <td>0</td>\n",
              "      <td>nonexistent</td>\n",
              "      <td>-1.8</td>\n",
              "      <td>92.893</td>\n",
              "      <td>-46.2</td>\n",
              "      <td>1.313</td>\n",
              "      <td>5099.1</td>\n",
              "      <td>0</td>\n",
              "    </tr>\n",
              "    <tr>\n",
              "      <th>8</th>\n",
              "      <td>36</td>\n",
              "      <td>admin.</td>\n",
              "      <td>married</td>\n",
              "      <td>university.degree</td>\n",
              "      <td>no</td>\n",
              "      <td>no</td>\n",
              "      <td>no</td>\n",
              "      <td>cellular</td>\n",
              "      <td>jun</td>\n",
              "      <td>mon</td>\n",
              "      <td>174</td>\n",
              "      <td>1</td>\n",
              "      <td>3</td>\n",
              "      <td>1</td>\n",
              "      <td>success</td>\n",
              "      <td>-2.9</td>\n",
              "      <td>92.963</td>\n",
              "      <td>-40.8</td>\n",
              "      <td>1.266</td>\n",
              "      <td>5076.2</td>\n",
              "      <td>1</td>\n",
              "    </tr>\n",
              "    <tr>\n",
              "      <th>9</th>\n",
              "      <td>27</td>\n",
              "      <td>blue-collar</td>\n",
              "      <td>single</td>\n",
              "      <td>basic.4y</td>\n",
              "      <td>no</td>\n",
              "      <td>yes</td>\n",
              "      <td>no</td>\n",
              "      <td>cellular</td>\n",
              "      <td>apr</td>\n",
              "      <td>thu</td>\n",
              "      <td>191</td>\n",
              "      <td>2</td>\n",
              "      <td>999</td>\n",
              "      <td>1</td>\n",
              "      <td>failure</td>\n",
              "      <td>-1.8</td>\n",
              "      <td>93.075</td>\n",
              "      <td>-47.1</td>\n",
              "      <td>1.410</td>\n",
              "      <td>5099.1</td>\n",
              "      <td>0</td>\n",
              "    </tr>\n",
              "  </tbody>\n",
              "</table>\n",
              "</div>"
            ],
            "text/plain": [
              "   age          job   marital  ... euribor3m nr_employed  y\n",
              "0   44  blue-collar   married  ...     4.963      5228.1  0\n",
              "1   53   technician   married  ...     4.021      5195.8  0\n",
              "2   28   management    single  ...     0.729      4991.6  1\n",
              "3   39     services   married  ...     1.405      5099.1  0\n",
              "4   55      retired   married  ...     0.869      5076.2  1\n",
              "5   30   management  divorced  ...     4.961      5228.1  0\n",
              "6   37  blue-collar   married  ...     1.327      5099.1  0\n",
              "7   39  blue-collar  divorced  ...     1.313      5099.1  0\n",
              "8   36       admin.   married  ...     1.266      5076.2  1\n",
              "9   27  blue-collar    single  ...     1.410      5099.1  0\n",
              "\n",
              "[10 rows x 21 columns]"
            ]
          },
          "metadata": {
            "tags": []
          },
          "execution_count": 531
        }
      ]
    },
    {
      "cell_type": "code",
      "metadata": {
        "colab": {
          "base_uri": "https://localhost:8080/"
        },
        "id": "57i7WZk1ZVI6",
        "outputId": "8a8513cc-1667-4447-ef15-d2a95e9b267e"
      },
      "source": [
        "#find number of missing values in each column\n",
        "df.isnull().sum()"
      ],
      "execution_count": 532,
      "outputs": [
        {
          "output_type": "execute_result",
          "data": {
            "text/plain": [
              "age               0\n",
              "job               0\n",
              "marital           0\n",
              "education         0\n",
              "default           0\n",
              "housing           0\n",
              "loan              0\n",
              "contact           0\n",
              "month             0\n",
              "day_of_week       0\n",
              "duration          0\n",
              "campaign          0\n",
              "pdays             0\n",
              "previous          0\n",
              "poutcome          0\n",
              "emp_var_rate      0\n",
              "cons_price_idx    0\n",
              "cons_conf_idx     0\n",
              "euribor3m         0\n",
              "nr_employed       0\n",
              "y                 0\n",
              "dtype: int64"
            ]
          },
          "metadata": {
            "tags": []
          },
          "execution_count": 532
        }
      ]
    },
    {
      "cell_type": "markdown",
      "metadata": {
        "id": "Ws5AWHLOVeJA"
      },
      "source": [
        "No missing values in the dataset."
      ]
    },
    {
      "cell_type": "markdown",
      "metadata": {
        "id": "qZHq5k99X1S3"
      },
      "source": [
        "**Can remove \"duration\" feature, since this is a realistic system. (as per the instructions)**"
      ]
    },
    {
      "cell_type": "code",
      "metadata": {
        "id": "dmeAPqAMYOPP"
      },
      "source": [
        "# dropping \"duration\"\n",
        "df = df.drop(columns=['duration'])"
      ],
      "execution_count": 533,
      "outputs": []
    },
    {
      "cell_type": "code",
      "metadata": {
        "colab": {
          "base_uri": "https://localhost:8080/"
        },
        "id": "ss1hTa0hV0pN",
        "outputId": "14ab1e9b-48ec-4cff-ecef-2193a654f20c"
      },
      "source": [
        "# checking data types\n",
        "df.dtypes"
      ],
      "execution_count": 534,
      "outputs": [
        {
          "output_type": "execute_result",
          "data": {
            "text/plain": [
              "age                 int64\n",
              "job                object\n",
              "marital            object\n",
              "education          object\n",
              "default            object\n",
              "housing            object\n",
              "loan               object\n",
              "contact            object\n",
              "month              object\n",
              "day_of_week        object\n",
              "campaign            int64\n",
              "pdays               int64\n",
              "previous            int64\n",
              "poutcome           object\n",
              "emp_var_rate      float64\n",
              "cons_price_idx    float64\n",
              "cons_conf_idx     float64\n",
              "euribor3m         float64\n",
              "nr_employed       float64\n",
              "y                   int64\n",
              "dtype: object"
            ]
          },
          "metadata": {
            "tags": []
          },
          "execution_count": 534
        }
      ]
    },
    {
      "cell_type": "code",
      "metadata": {
        "id": "TlO2zuwGgGhn",
        "colab": {
          "base_uri": "https://localhost:8080/"
        },
        "outputId": "89bcc97d-7d54-4259-c657-9f9f9a5f3d4b"
      },
      "source": [
        "df.shape"
      ],
      "execution_count": 535,
      "outputs": [
        {
          "output_type": "execute_result",
          "data": {
            "text/plain": [
              "(41188, 20)"
            ]
          },
          "metadata": {
            "tags": []
          },
          "execution_count": 535
        }
      ]
    },
    {
      "cell_type": "markdown",
      "metadata": {
        "id": "pd7PEyHJGOCv"
      },
      "source": [
        "**<h1>Drawing Box-Plots</h1>**"
      ]
    },
    {
      "cell_type": "markdown",
      "metadata": {
        "id": "zHz0AVYCpP3F"
      },
      "source": [
        "Box-Plots for non-categorical features."
      ]
    },
    {
      "cell_type": "markdown",
      "metadata": {
        "id": "NQY_SC8CTRfB"
      },
      "source": [
        "**\"age\" Box Plot**"
      ]
    },
    {
      "cell_type": "code",
      "metadata": {
        "colab": {
          "base_uri": "https://localhost:8080/",
          "height": 880
        },
        "id": "St2PpdphwYAw",
        "outputId": "e4dcc9d5-5c19-4191-dc9c-5205abd32019"
      },
      "source": [
        "df.boxplot(column=['age'], figsize=[15,15])"
      ],
      "execution_count": 536,
      "outputs": [
        {
          "output_type": "execute_result",
          "data": {
            "text/plain": [
              "<matplotlib.axes._subplots.AxesSubplot at 0x7ff22dad1390>"
            ]
          },
          "metadata": {
            "tags": []
          },
          "execution_count": 536
        },
        {
          "output_type": "display_data",
          "data": {
            "image/png": "[encoded data removed]",
            "text/plain": [
              "<Figure size 1080x1080 with 1 Axes>"
            ]
          },
          "metadata": {
            "tags": [],
            "needs_background": "light"
          }
        }
      ]
    },
    {
      "cell_type": "markdown",
      "metadata": {
        "id": "W5N4OegTwxAD"
      },
      "source": [
        "'age' feature does not have outliers,since there are many points far away from the maximum(not just 1 or 2 points).\n",
        "\n"
      ]
    },
    {
      "cell_type": "markdown",
      "metadata": {
        "id": "E7otwzflW__S"
      },
      "source": [
        "**\"campaign\" Box Plot**"
      ]
    },
    {
      "cell_type": "code",
      "metadata": {
        "colab": {
          "base_uri": "https://localhost:8080/",
          "height": 880
        },
        "id": "r7lv5jE7W__W",
        "outputId": "3534643d-956e-4290-dd20-a19edc3e1c90"
      },
      "source": [
        "df.boxplot(column=['campaign'], figsize=[15,15])"
      ],
      "execution_count": 537,
      "outputs": [
        {
          "output_type": "execute_result",
          "data": {
            "text/plain": [
              "<matplotlib.axes._subplots.AxesSubplot at 0x7ff22d719e10>"
            ]
          },
          "metadata": {
            "tags": []
          },
          "execution_count": 537
        },
        {
          "output_type": "display_data",
          "data": {
            "image/png": "[encoded data removed]",
            "text/plain": [
              "<Figure size 1080x1080 with 1 Axes>"
            ]
          },
          "metadata": {
            "tags": [],
            "needs_background": "light"
          }
        }
      ]
    },
    {
      "cell_type": "markdown",
      "metadata": {
        "id": "9kvZERpQW__Z"
      },
      "source": [
        "'campaign' feature does not have outliers,since there are many points far away from the maximum(not just 1 or 2 points).\n",
        "\n"
      ]
    },
    {
      "cell_type": "markdown",
      "metadata": {
        "id": "sld_S_QdXWG-"
      },
      "source": [
        "**\"pdays\" Box Plot**"
      ]
    },
    {
      "cell_type": "code",
      "metadata": {
        "colab": {
          "base_uri": "https://localhost:8080/",
          "height": 880
        },
        "id": "Gk4rffYoXWHB",
        "outputId": "0cb87ee4-2bef-4f0d-8084-804f0ba1f024"
      },
      "source": [
        "df.boxplot(column=['pdays'], figsize=[15,15])"
      ],
      "execution_count": 538,
      "outputs": [
        {
          "output_type": "execute_result",
          "data": {
            "text/plain": [
              "<matplotlib.axes._subplots.AxesSubplot at 0x7ff22d703310>"
            ]
          },
          "metadata": {
            "tags": []
          },
          "execution_count": 538
        },
        {
          "output_type": "display_data",
          "data": {
            "image/png": "[encoded data removed]",
            "text/plain": [
              "<Figure size 1080x1080 with 1 Axes>"
            ]
          },
          "metadata": {
            "tags": [],
            "needs_background": "light"
          }
        }
      ]
    },
    {
      "cell_type": "markdown",
      "metadata": {
        "id": "bMkGwL6ZXWHG"
      },
      "source": [
        "'pdays' feature does not have outliers,since there are many points below the minimum(not just 1 or 2 points).\n",
        "\n"
      ]
    },
    {
      "cell_type": "markdown",
      "metadata": {
        "id": "rYWv0ztMZrsn"
      },
      "source": [
        "**\"previous\" Box Plot**"
      ]
    },
    {
      "cell_type": "code",
      "metadata": {
        "colab": {
          "base_uri": "https://localhost:8080/",
          "height": 880
        },
        "id": "_r41PxT_Zrsu",
        "outputId": "2360a1ed-fe30-47de-9eaa-abc4549532ee"
      },
      "source": [
        "df.boxplot(column=['previous'], figsize=[15,15])"
      ],
      "execution_count": 539,
      "outputs": [
        {
          "output_type": "execute_result",
          "data": {
            "text/plain": [
              "<matplotlib.axes._subplots.AxesSubplot at 0x7ff22d673a90>"
            ]
          },
          "metadata": {
            "tags": []
          },
          "execution_count": 539
        },
        {
          "output_type": "display_data",
          "data": {
            "image/png": "[encoded data removed]",
            "text/plain": [
              "<Figure size 1080x1080 with 1 Axes>"
            ]
          },
          "metadata": {
            "tags": [],
            "needs_background": "light"
          }
        }
      ]
    },
    {
      "cell_type": "markdown",
      "metadata": {
        "id": "wwTEpXdTZrsz"
      },
      "source": [
        "'previous' feature does not have outliers,since there are many points far away from the maximum(not just 1 or 2 points).\n",
        "\n"
      ]
    },
    {
      "cell_type": "markdown",
      "metadata": {
        "id": "bGKDk-31aBSD"
      },
      "source": [
        "**\"emp_var_rate\" Box Plot**"
      ]
    },
    {
      "cell_type": "code",
      "metadata": {
        "colab": {
          "base_uri": "https://localhost:8080/",
          "height": 881
        },
        "id": "_cZU99vZaBSL",
        "outputId": "a00fc1ac-e6c0-4e66-fe33-a926b1f17f62"
      },
      "source": [
        "df.boxplot(column=['emp_var_rate'], figsize=[15,15])"
      ],
      "execution_count": 540,
      "outputs": [
        {
          "output_type": "execute_result",
          "data": {
            "text/plain": [
              "<matplotlib.axes._subplots.AxesSubplot at 0x7ff22d5e0ad0>"
            ]
          },
          "metadata": {
            "tags": []
          },
          "execution_count": 540
        },
        {
          "output_type": "display_data",
          "data": {
            "image/png": "[encoded data removed]",
            "text/plain": [
              "<Figure size 1080x1080 with 1 Axes>"
            ]
          },
          "metadata": {
            "tags": [],
            "needs_background": "light"
          }
        }
      ]
    },
    {
      "cell_type": "markdown",
      "metadata": {
        "id": "FN_yD6_HaBSV"
      },
      "source": [
        "'emp_var_rate' feature does not have outliers. All the point are within the min-max range.\n",
        "\n"
      ]
    },
    {
      "cell_type": "markdown",
      "metadata": {
        "id": "eSC6WW14arBt"
      },
      "source": [
        "**\"cons_price_idx\" Box Plot**"
      ]
    },
    {
      "cell_type": "code",
      "metadata": {
        "colab": {
          "base_uri": "https://localhost:8080/",
          "height": 881
        },
        "id": "onzQRWcTarBw",
        "outputId": "eb715a85-10ca-4554-acf8-c50bec8a0fcd"
      },
      "source": [
        "df.boxplot(column=['cons_price_idx'], figsize=[15,15])"
      ],
      "execution_count": 541,
      "outputs": [
        {
          "output_type": "execute_result",
          "data": {
            "text/plain": [
              "<matplotlib.axes._subplots.AxesSubplot at 0x7ff22d5ce790>"
            ]
          },
          "metadata": {
            "tags": []
          },
          "execution_count": 541
        },
        {
          "output_type": "display_data",
          "data": {
            "image/png": "[encoded data removed]",
            "text/plain": [
              "<Figure size 1080x1080 with 1 Axes>"
            ]
          },
          "metadata": {
            "tags": [],
            "needs_background": "light"
          }
        }
      ]
    },
    {
      "cell_type": "markdown",
      "metadata": {
        "id": "-FxRrobjarB0"
      },
      "source": [
        "'cons_price_idx' feature does not have outliers. All the points are within the min-max range.\n",
        "\n"
      ]
    },
    {
      "cell_type": "markdown",
      "metadata": {
        "id": "MPNNp9CxbOml"
      },
      "source": [
        "**\"cons_conf_idx\" Box Plot**"
      ]
    },
    {
      "cell_type": "code",
      "metadata": {
        "colab": {
          "base_uri": "https://localhost:8080/",
          "height": 881
        },
        "id": "mY6lAhX6bOmq",
        "outputId": "8a21705c-79e4-43fb-fbbe-aae26c39ce74"
      },
      "source": [
        "df.boxplot(column=['cons_conf_idx'], figsize=[15,15])"
      ],
      "execution_count": 542,
      "outputs": [
        {
          "output_type": "execute_result",
          "data": {
            "text/plain": [
              "<matplotlib.axes._subplots.AxesSubplot at 0x7ff22d534950>"
            ]
          },
          "metadata": {
            "tags": []
          },
          "execution_count": 542
        },
        {
          "output_type": "display_data",
          "data": {
            "image/png": "[encoded data removed]",
            "text/plain": [
              "<Figure size 1080x1080 with 1 Axes>"
            ]
          },
          "metadata": {
            "tags": [],
            "needs_background": "light"
          }
        }
      ]
    },
    {
      "cell_type": "markdown",
      "metadata": {
        "id": "HJfLG1HGkHeb"
      },
      "source": [
        "'cons_conf_idx' feature has an outlier,since there is a point far away from the maximum.\n",
        "\n"
      ]
    },
    {
      "cell_type": "markdown",
      "metadata": {
        "id": "aW6nz1vvbn-U"
      },
      "source": [
        "**\"euribor3m\" Box Plot**"
      ]
    },
    {
      "cell_type": "code",
      "metadata": {
        "colab": {
          "base_uri": "https://localhost:8080/",
          "height": 880
        },
        "id": "vCy_mae8bn-X",
        "outputId": "19a52e3a-5b1f-4234-9e3c-8271a2be2675"
      },
      "source": [
        "df.boxplot(column=['euribor3m'], figsize=[15,15])"
      ],
      "execution_count": 543,
      "outputs": [
        {
          "output_type": "execute_result",
          "data": {
            "text/plain": [
              "<matplotlib.axes._subplots.AxesSubplot at 0x7ff22d4a1490>"
            ]
          },
          "metadata": {
            "tags": []
          },
          "execution_count": 543
        },
        {
          "output_type": "display_data",
          "data": {
            "image/png": "[encoded data removed]",
            "text/plain": [
              "<Figure size 1080x1080 with 1 Axes>"
            ]
          },
          "metadata": {
            "tags": [],
            "needs_background": "light"
          }
        }
      ]
    },
    {
      "cell_type": "markdown",
      "metadata": {
        "id": "z9p_K2mvbn-e"
      },
      "source": [
        "'euribor3m' feature does not have outliers. All the points are within the min-max range.\n",
        "\n"
      ]
    },
    {
      "cell_type": "markdown",
      "metadata": {
        "id": "JUgI5LuacXOT"
      },
      "source": [
        "**\"nr_employed\" Box Plot**"
      ]
    },
    {
      "cell_type": "code",
      "metadata": {
        "colab": {
          "base_uri": "https://localhost:8080/",
          "height": 881
        },
        "id": "8QWHdxwRcXOZ",
        "outputId": "5b348b6e-7c11-4057-8b27-09e31861dec6"
      },
      "source": [
        "df.boxplot(column=['nr_employed'], figsize=[15,15])"
      ],
      "execution_count": 544,
      "outputs": [
        {
          "output_type": "execute_result",
          "data": {
            "text/plain": [
              "<matplotlib.axes._subplots.AxesSubplot at 0x7ff22d488910>"
            ]
          },
          "metadata": {
            "tags": []
          },
          "execution_count": 544
        },
        {
          "output_type": "display_data",
          "data": {
            "image/png": "[encoded data removed]",
            "text/plain": [
              "<Figure size 1080x1080 with 1 Axes>"
            ]
          },
          "metadata": {
            "tags": [],
            "needs_background": "light"
          }
        }
      ]
    },
    {
      "cell_type": "markdown",
      "metadata": {
        "id": "7XUsbzAYcXOh"
      },
      "source": [
        "'nr_employed' feature does not have outliers. All the points are within the min-max range.\n",
        "\n"
      ]
    },
    {
      "cell_type": "markdown",
      "metadata": {
        "id": "z_bTmb1HhNsH"
      },
      "source": [
        "Remove the outlier in \"cons_conf_idx\"."
      ]
    },
    {
      "cell_type": "code",
      "metadata": {
        "id": "aSH8rlPxgPnO"
      },
      "source": [
        "# Minimum Percentile Value\n",
        "min_val = df.cons_conf_idx.quantile(0.05)\n",
        "# Maximum Percentile Value\n",
        "max_val = df.cons_conf_idx.quantile(0.95)\n",
        "# Removing all the outliers\n",
        "df = df[(df['cons_conf_idx']>min_val) & (df['cons_conf_idx']<max_val)]"
      ],
      "execution_count": 545,
      "outputs": []
    },
    {
      "cell_type": "code",
      "metadata": {
        "id": "HEF3KJJqhPap",
        "colab": {
          "base_uri": "https://localhost:8080/"
        },
        "outputId": "308e3568-5995-4188-904c-6f08ce4d923e"
      },
      "source": [
        "df.shape"
      ],
      "execution_count": 546,
      "outputs": [
        {
          "output_type": "execute_result",
          "data": {
            "text/plain": [
              "(35925, 20)"
            ]
          },
          "metadata": {
            "tags": []
          },
          "execution_count": 546
        }
      ]
    },
    {
      "cell_type": "markdown",
      "metadata": {
        "id": "Y0ZCT1S1GxNi"
      },
      "source": [
        "**<h1>Drawing Q-Q Plots and Histograms</h1>**\n",
        "\n"
      ]
    },
    {
      "cell_type": "markdown",
      "metadata": {
        "id": "jmMPjCropgSf"
      },
      "source": [
        "For non-categorical features."
      ]
    },
    {
      "cell_type": "code",
      "metadata": {
        "id": "uZ_FxKwNjJW0"
      },
      "source": [
        "import matplotlib.pyplot as plt\n",
        "import scipy.stats as stats"
      ],
      "execution_count": 547,
      "outputs": []
    },
    {
      "cell_type": "markdown",
      "metadata": {
        "id": "YJiU1tOaUvTR"
      },
      "source": [
        "**Q-Q Plot and Histogram for \"age\"**"
      ]
    },
    {
      "cell_type": "code",
      "metadata": {
        "colab": {
          "base_uri": "https://localhost:8080/",
          "height": 560
        },
        "id": "PJPpIk73KoWl",
        "outputId": "f2b264c4-1d4f-4879-9684-41a6b15c666c"
      },
      "source": [
        "# Q-Q Plot drawing\n",
        "stats.probplot(df['age'],dist='norm',plot=plt)\n",
        "plt.show()\n",
        "# histogram drawing\n",
        "df['age'].hist()"
      ],
      "execution_count": 548,
      "outputs": [
        {
          "output_type": "display_data",
          "data": {
            "image/png": "[encoded data removed]",
            "text/plain": [
              "<Figure size 432x288 with 1 Axes>"
            ]
          },
          "metadata": {
            "tags": [],
            "needs_background": "light"
          }
        },
        {
          "output_type": "execute_result",
          "data": {
            "text/plain": [
              "<matplotlib.axes._subplots.AxesSubplot at 0x7ff22d361b90>"
            ]
          },
          "metadata": {
            "tags": []
          },
          "execution_count": 548
        },
        {
          "output_type": "display_data",
          "data": {
            "image/png": "[encoded data removed]",
            "text/plain": [
              "<Figure size 432x288 with 1 Axes>"
            ]
          },
          "metadata": {
            "tags": [],
            "needs_background": "light"
          }
        }
      ]
    },
    {
      "cell_type": "markdown",
      "metadata": {
        "id": "5Yn7W-PTIW10"
      },
      "source": [
        "Right-skewed. Need transformation."
      ]
    },
    {
      "cell_type": "markdown",
      "metadata": {
        "id": "mJMSOTUuJyHU"
      },
      "source": [
        "**Q-Q Plot and Histogram for \"campaign\"**"
      ]
    },
    {
      "cell_type": "code",
      "metadata": {
        "colab": {
          "base_uri": "https://localhost:8080/",
          "height": 563
        },
        "id": "Wm7gMsrvJyHd",
        "outputId": "154f2abc-066d-4601-9c81-6d30b17574a9"
      },
      "source": [
        "# Q-Q Plot drawing\n",
        "stats.probplot(df[\"campaign\"],dist='norm',plot=plt)\n",
        "plt.show()\n",
        "# histogram drawing\n",
        "df['campaign'].hist()"
      ],
      "execution_count": 549,
      "outputs": [
        {
          "output_type": "display_data",
          "data": {
            "image/png": "[encoded data removed]",
            "text/plain": [
              "<Figure size 432x288 with 1 Axes>"
            ]
          },
          "metadata": {
            "tags": [],
            "needs_background": "light"
          }
        },
        {
          "output_type": "execute_result",
          "data": {
            "text/plain": [
              "<matplotlib.axes._subplots.AxesSubplot at 0x7ff22d253810>"
            ]
          },
          "metadata": {
            "tags": []
          },
          "execution_count": 549
        },
        {
          "output_type": "display_data",
          "data": {
            "image/png": "[encoded data removed]",
            "text/plain": [
              "<Figure size 432x288 with 1 Axes>"
            ]
          },
          "metadata": {
            "tags": [],
            "needs_background": "light"
          }
        }
      ]
    },
    {
      "cell_type": "markdown",
      "metadata": {
        "id": "a9IMOrMQKArx"
      },
      "source": [
        "Right-skewed. Need transformation."
      ]
    },
    {
      "cell_type": "markdown",
      "metadata": {
        "id": "I19Wc4mVInwa"
      },
      "source": [
        "**Q-Q Plot and Histogram for \"pdays\"**"
      ]
    },
    {
      "cell_type": "code",
      "metadata": {
        "colab": {
          "base_uri": "https://localhost:8080/",
          "height": 560
        },
        "id": "OD77mIOrInwg",
        "outputId": "c55ab184-37b4-4c85-cf66-12326efe57f4"
      },
      "source": [
        "# Q-Q Plot drawing\n",
        "stats.probplot(df[\"pdays\"],dist='norm',plot=plt)\n",
        "plt.show()\n",
        "# histogram drawing\n",
        "df['pdays'].hist()"
      ],
      "execution_count": 550,
      "outputs": [
        {
          "output_type": "display_data",
          "data": {
            "image/png": "[encoded data removed]",
            "text/plain": [
              "<Figure size 432x288 with 1 Axes>"
            ]
          },
          "metadata": {
            "tags": [],
            "needs_background": "light"
          }
        },
        {
          "output_type": "execute_result",
          "data": {
            "text/plain": [
              "<matplotlib.axes._subplots.AxesSubplot at 0x7ff22d1aef90>"
            ]
          },
          "metadata": {
            "tags": []
          },
          "execution_count": 550
        },
        {
          "output_type": "display_data",
          "data": {
            "image/png": "[encoded data removed]",
            "text/plain": [
              "<Figure size 432x288 with 1 Axes>"
            ]
          },
          "metadata": {
            "tags": [],
            "needs_background": "light"
          }
        }
      ]
    },
    {
      "cell_type": "markdown",
      "metadata": {
        "id": "QtlKghbxJZj1"
      },
      "source": [
        "Left-skewed. Need transformation."
      ]
    },
    {
      "cell_type": "markdown",
      "metadata": {
        "id": "RCAb2D_tKHBU"
      },
      "source": [
        "**Q-Q Plot and Histogram for \"previous\"**"
      ]
    },
    {
      "cell_type": "code",
      "metadata": {
        "colab": {
          "base_uri": "https://localhost:8080/",
          "height": 560
        },
        "id": "_FrjMZM3KHBc",
        "outputId": "4406fb88-2ba6-4885-a355-f8476b3f55f2"
      },
      "source": [
        "# Q-Q Plot drawing\n",
        "stats.probplot(df[\"previous\"],dist='norm',plot=plt)\n",
        "plt.show()\n",
        "# histogram drawing\n",
        "df['previous'].hist()"
      ],
      "execution_count": 551,
      "outputs": [
        {
          "output_type": "display_data",
          "data": {
            "image/png": "[encoded data removed]",
            "text/plain": [
              "<Figure size 432x288 with 1 Axes>"
            ]
          },
          "metadata": {
            "tags": [],
            "needs_background": "light"
          }
        },
        {
          "output_type": "execute_result",
          "data": {
            "text/plain": [
              "<matplotlib.axes._subplots.AxesSubplot at 0x7ff22d099810>"
            ]
          },
          "metadata": {
            "tags": []
          },
          "execution_count": 551
        },
        {
          "output_type": "display_data",
          "data": {
            "image/png": "[encoded data removed]",
            "text/plain": [
              "<Figure size 432x288 with 1 Axes>"
            ]
          },
          "metadata": {
            "tags": [],
            "needs_background": "light"
          }
        }
      ]
    },
    {
      "cell_type": "markdown",
      "metadata": {
        "id": "K4gEaShKBBwv"
      },
      "source": [
        "Right-skewed. Need transformation."
      ]
    },
    {
      "cell_type": "code",
      "metadata": {
        "id": "ndeWIEcNHFuM"
      },
      "source": [
        "import matplotlib.pyplot as plt\n",
        "import scipy.stats as stats"
      ],
      "execution_count": 552,
      "outputs": []
    },
    {
      "cell_type": "markdown",
      "metadata": {
        "id": "B3wWVm4_KyoM"
      },
      "source": [
        "**Q-Q Plot and Histogram for \"emp_var_rate\"**"
      ]
    },
    {
      "cell_type": "code",
      "metadata": {
        "colab": {
          "base_uri": "https://localhost:8080/",
          "height": 563
        },
        "id": "yKpi_RggKyoR",
        "outputId": "729d049e-7d8c-402d-c9ea-33f498d70775"
      },
      "source": [
        "# Q-Q Plot drawing\n",
        "stats.probplot(df[\"emp_var_rate\"],dist='norm',plot=plt)\n",
        "plt.show()\n",
        "# histogram drawing\n",
        "df['emp_var_rate'].hist()"
      ],
      "execution_count": 553,
      "outputs": [
        {
          "output_type": "display_data",
          "data": {
            "image/png": "[encoded data removed]",
            "text/plain": [
              "<Figure size 432x288 with 1 Axes>"
            ]
          },
          "metadata": {
            "tags": [],
            "needs_background": "light"
          }
        },
        {
          "output_type": "execute_result",
          "data": {
            "text/plain": [
              "<matplotlib.axes._subplots.AxesSubplot at 0x7ff22d03b8d0>"
            ]
          },
          "metadata": {
            "tags": []
          },
          "execution_count": 553
        },
        {
          "output_type": "display_data",
          "data": {
            "image/png": "[encoded data removed]",
            "text/plain": [
              "<Figure size 432x288 with 1 Axes>"
            ]
          },
          "metadata": {
            "tags": [],
            "needs_background": "light"
          }
        }
      ]
    },
    {
      "cell_type": "markdown",
      "metadata": {
        "id": "sVIpYF4NLNkh"
      },
      "source": [
        "No long tail end. No transformation is needed."
      ]
    },
    {
      "cell_type": "markdown",
      "metadata": {
        "id": "Sj1eyqgUMV5D"
      },
      "source": [
        "**Q-Q Plot and Histogram for \"cons_price_idx\"**"
      ]
    },
    {
      "cell_type": "code",
      "metadata": {
        "colab": {
          "base_uri": "https://localhost:8080/",
          "height": 560
        },
        "id": "fP3Qr6jRMV5H",
        "outputId": "d88c6a3d-6551-4a9a-c23f-4e9f58d3c971"
      },
      "source": [
        "# Q-Q Plot drawing\n",
        "stats.probplot(df[\"cons_price_idx\"],dist='norm',plot=plt)\n",
        "plt.show()\n",
        "# histogram drawing\n",
        "df['cons_price_idx'].hist()"
      ],
      "execution_count": 554,
      "outputs": [
        {
          "output_type": "display_data",
          "data": {
            "image/png": "[encoded data removed]",
            "text/plain": [
              "<Figure size 432x288 with 1 Axes>"
            ]
          },
          "metadata": {
            "tags": [],
            "needs_background": "light"
          }
        },
        {
          "output_type": "execute_result",
          "data": {
            "text/plain": [
              "<matplotlib.axes._subplots.AxesSubplot at 0x7ff22ce965d0>"
            ]
          },
          "metadata": {
            "tags": []
          },
          "execution_count": 554
        },
        {
          "output_type": "display_data",
          "data": {
            "image/png": "[encoded data removed]",
            "text/plain": [
              "<Figure size 432x288 with 1 Axes>"
            ]
          },
          "metadata": {
            "tags": [],
            "needs_background": "light"
          }
        }
      ]
    },
    {
      "cell_type": "markdown",
      "metadata": {
        "id": "PYA4_HjpMkKY"
      },
      "source": [
        "No long tail end. No need of transformation."
      ]
    },
    {
      "cell_type": "markdown",
      "metadata": {
        "id": "yw3ama5CMz9c"
      },
      "source": [
        "**Q-Q Plot and Histogram for \"cons_conf_idx\"**"
      ]
    },
    {
      "cell_type": "code",
      "metadata": {
        "colab": {
          "base_uri": "https://localhost:8080/",
          "height": 560
        },
        "id": "fsgW4YbqMz9l",
        "outputId": "bf952deb-e7d1-42b7-f0a0-33718e87911e"
      },
      "source": [
        "# Q-Q Plot drawing\n",
        "stats.probplot(df[\"cons_conf_idx\"],dist='norm',plot=plt)\n",
        "plt.show()\n",
        "# histogram drawing\n",
        "df['cons_conf_idx'].hist()"
      ],
      "execution_count": 555,
      "outputs": [
        {
          "output_type": "display_data",
          "data": {
            "image/png": "[encoded data removed]",
            "text/plain": [
              "<Figure size 432x288 with 1 Axes>"
            ]
          },
          "metadata": {
            "tags": [],
            "needs_background": "light"
          }
        },
        {
          "output_type": "execute_result",
          "data": {
            "text/plain": [
              "<matplotlib.axes._subplots.AxesSubplot at 0x7ff22cd93e50>"
            ]
          },
          "metadata": {
            "tags": []
          },
          "execution_count": 555
        },
        {
          "output_type": "display_data",
          "data": {
            "image/png": "[encoded data removed]",
            "text/plain": [
              "<Figure size 432x288 with 1 Axes>"
            ]
          },
          "metadata": {
            "tags": [],
            "needs_background": "light"
          }
        }
      ]
    },
    {
      "cell_type": "markdown",
      "metadata": {
        "id": "zoS-At3bNAaE"
      },
      "source": [
        "No long tail end. No need of transformation."
      ]
    },
    {
      "cell_type": "markdown",
      "metadata": {
        "id": "owKcA3DUNcra"
      },
      "source": [
        "**Q-Q Plot and Histogram for \"euribor3m\"**"
      ]
    },
    {
      "cell_type": "code",
      "metadata": {
        "colab": {
          "base_uri": "https://localhost:8080/",
          "height": 562
        },
        "id": "Hv7ut9UrNcrg",
        "outputId": "52ea2b3c-b8e9-4c36-a210-3d6b4f1037b5"
      },
      "source": [
        "# Q-Q Plot drawing\n",
        "stats.probplot(df[\"euribor3m\"],dist='norm',plot=plt)\n",
        "plt.show()\n",
        "# histogram drawing\n",
        "df['euribor3m'].hist()"
      ],
      "execution_count": 556,
      "outputs": [
        {
          "output_type": "display_data",
          "data": {
            "image/png": "[encoded data removed]",
            "text/plain": [
              "<Figure size 432x288 with 1 Axes>"
            ]
          },
          "metadata": {
            "tags": [],
            "needs_background": "light"
          }
        },
        {
          "output_type": "execute_result",
          "data": {
            "text/plain": [
              "<matplotlib.axes._subplots.AxesSubplot at 0x7ff22cd08d10>"
            ]
          },
          "metadata": {
            "tags": []
          },
          "execution_count": 556
        },
        {
          "output_type": "display_data",
          "data": {
            "image/png": "[encoded data removed]",
            "text/plain": [
              "<Figure size 432x288 with 1 Axes>"
            ]
          },
          "metadata": {
            "tags": [],
            "needs_background": "light"
          }
        }
      ]
    },
    {
      "cell_type": "markdown",
      "metadata": {
        "id": "WgR4N61YNrAk"
      },
      "source": [
        "No long tail end. No need of transformation."
      ]
    },
    {
      "cell_type": "markdown",
      "metadata": {
        "id": "0k0tPZ44N2K2"
      },
      "source": [
        "**Q-Q Plot and Histogram for \"nr_employed\"**"
      ]
    },
    {
      "cell_type": "code",
      "metadata": {
        "colab": {
          "base_uri": "https://localhost:8080/",
          "height": 560
        },
        "id": "d2KCyxVPN2K6",
        "outputId": "89e2878c-6680-4a3b-864e-24d4b62a6f8e"
      },
      "source": [
        "# Q-Q Plot drawing\n",
        "stats.probplot(df[\"nr_employed\"],dist='norm',plot=plt)\n",
        "plt.show()\n",
        "# histogram drawing\n",
        "df['nr_employed'].hist()"
      ],
      "execution_count": 557,
      "outputs": [
        {
          "output_type": "display_data",
          "data": {
            "image/png": "[encoded data removed]",
            "text/plain": [
              "<Figure size 432x288 with 1 Axes>"
            ]
          },
          "metadata": {
            "tags": [],
            "needs_background": "light"
          }
        },
        {
          "output_type": "execute_result",
          "data": {
            "text/plain": [
              "<matplotlib.axes._subplots.AxesSubplot at 0x7ff22cbec190>"
            ]
          },
          "metadata": {
            "tags": []
          },
          "execution_count": 557
        },
        {
          "output_type": "display_data",
          "data": {
            "image/png": "[encoded data removed]",
            "text/plain": [
              "<Figure size 432x288 with 1 Axes>"
            ]
          },
          "metadata": {
            "tags": [],
            "needs_background": "light"
          }
        }
      ]
    },
    {
      "cell_type": "markdown",
      "metadata": {
        "id": "2sm2Q69kOEKm"
      },
      "source": [
        "No long tail end. No need of transformation."
      ]
    },
    {
      "cell_type": "code",
      "metadata": {
        "colab": {
          "base_uri": "https://localhost:8080/"
        },
        "id": "hFcfCh7fEWoT",
        "outputId": "76112ac8-b6e7-4425-987c-19fe5fce9957"
      },
      "source": [
        "df.shape"
      ],
      "execution_count": 558,
      "outputs": [
        {
          "output_type": "execute_result",
          "data": {
            "text/plain": [
              "(35925, 20)"
            ]
          },
          "metadata": {
            "tags": []
          },
          "execution_count": 558
        }
      ]
    },
    {
      "cell_type": "markdown",
      "metadata": {
        "id": "6jwwopFVs5v0"
      },
      "source": [
        "**Transformation for \"age\",\"previous\" and \"campaign\"**"
      ]
    },
    {
      "cell_type": "code",
      "metadata": {
        "id": "s3hBUiEuc9WR"
      },
      "source": [
        "import numpy as np\n",
        "import pandas as pd\n",
        "from sklearn.preprocessing import FunctionTransformer"
      ],
      "execution_count": 559,
      "outputs": []
    },
    {
      "cell_type": "code",
      "metadata": {
        "colab": {
          "base_uri": "https://localhost:8080/"
        },
        "id": "NR4g_B8VEYaA",
        "outputId": "15002a68-bbb3-4a2b-e570-f48929efdc93"
      },
      "source": [
        "df.shape"
      ],
      "execution_count": 560,
      "outputs": [
        {
          "output_type": "execute_result",
          "data": {
            "text/plain": [
              "(35925, 20)"
            ]
          },
          "metadata": {
            "tags": []
          },
          "execution_count": 560
        }
      ]
    },
    {
      "cell_type": "code",
      "metadata": {
        "id": "gNbdkVRFWrQT"
      },
      "source": [
        "# sqrt transformation\n",
        "column = ['age','previous','campaign']\n",
        "sq = FunctionTransformer(np.sqrt, validate=True)\n",
        "data_new = sq.transform(df[column])"
      ],
      "execution_count": 561,
      "outputs": []
    },
    {
      "cell_type": "code",
      "metadata": {
        "id": "0MfFagFaRFgf"
      },
      "source": [
        "# re-assigning transformed values \n",
        "df['age'] = data_new[:,0]\n",
        "df['previous'] = data_new[:,1]\n",
        "df['campaign'] = data_new[:,2]"
      ],
      "execution_count": 562,
      "outputs": []
    },
    {
      "cell_type": "markdown",
      "metadata": {
        "id": "UHB1VUax6Ype"
      },
      "source": [
        "**Transformation for \"pdays\"**"
      ]
    },
    {
      "cell_type": "code",
      "metadata": {
        "id": "Vz0xJcq36nCg"
      },
      "source": [
        "# square transformation\n",
        "column = ['pdays']\n",
        "sqr = FunctionTransformer(np.square, validate=True)\n",
        "data_new = sqr.transform(df[column])"
      ],
      "execution_count": 563,
      "outputs": []
    },
    {
      "cell_type": "code",
      "metadata": {
        "id": "lR4ysnqC6nCp"
      },
      "source": [
        "# re-assigning transformed values \n",
        "df['pdays'] = data_new[:,0]"
      ],
      "execution_count": 564,
      "outputs": []
    },
    {
      "cell_type": "markdown",
      "metadata": {
        "id": "0BWvQcLCMAxY"
      },
      "source": [
        "**<h1>Data Coding</h1>**"
      ]
    },
    {
      "cell_type": "code",
      "metadata": {
        "colab": {
          "base_uri": "https://localhost:8080/"
        },
        "id": "kBPl6QS__0Ww",
        "outputId": "de0906f1-38c7-451c-b24f-bfb7e31f1d9f"
      },
      "source": [
        "df.dtypes"
      ],
      "execution_count": 565,
      "outputs": [
        {
          "output_type": "execute_result",
          "data": {
            "text/plain": [
              "age               float64\n",
              "job                object\n",
              "marital            object\n",
              "education          object\n",
              "default            object\n",
              "housing            object\n",
              "loan               object\n",
              "contact            object\n",
              "month              object\n",
              "day_of_week        object\n",
              "campaign          float64\n",
              "pdays               int64\n",
              "previous          float64\n",
              "poutcome           object\n",
              "emp_var_rate      float64\n",
              "cons_price_idx    float64\n",
              "cons_conf_idx     float64\n",
              "euribor3m         float64\n",
              "nr_employed       float64\n",
              "y                   int64\n",
              "dtype: object"
            ]
          },
          "metadata": {
            "tags": []
          },
          "execution_count": 565
        }
      ]
    },
    {
      "cell_type": "code",
      "metadata": {
        "id": "xvo38zHmaAe1"
      },
      "source": [
        "import numpy as np"
      ],
      "execution_count": 566,
      "outputs": []
    },
    {
      "cell_type": "code",
      "metadata": {
        "colab": {
          "base_uri": "https://localhost:8080/"
        },
        "id": "48czstQRDlnj",
        "outputId": "5087be91-e103-4519-d168-afb96167877c"
      },
      "source": [
        "# categories display\n",
        "names = df.job.unique()\n",
        "names = np.sort(names)\n",
        "print(names)"
      ],
      "execution_count": 567,
      "outputs": [
        {
          "output_type": "stream",
          "text": [
            "['admin.' 'blue-collar' 'entrepreneur' 'housemaid' 'management' 'retired'\n",
            " 'self-employed' 'services' 'student' 'technician' 'unemployed' 'unknown']\n"
          ],
          "name": "stdout"
        }
      ]
    },
    {
      "cell_type": "code",
      "metadata": {
        "colab": {
          "base_uri": "https://localhost:8080/"
        },
        "id": "lhCMbk7sDp_C",
        "outputId": "a5db2c3d-8685-403b-edf8-90cf3af941f7"
      },
      "source": [
        "# categories display \n",
        "names = df.marital.unique()\n",
        "names = np.sort(names)\n",
        "print(names)"
      ],
      "execution_count": 568,
      "outputs": [
        {
          "output_type": "stream",
          "text": [
            "['divorced' 'married' 'single' 'unknown']\n"
          ],
          "name": "stdout"
        }
      ]
    },
    {
      "cell_type": "code",
      "metadata": {
        "colab": {
          "base_uri": "https://localhost:8080/"
        },
        "id": "coRS_JXODqzA",
        "outputId": "2870a33b-5049-4b05-b163-42977d67adc4"
      },
      "source": [
        "# categories display \n",
        "names = df.education.unique()\n",
        "names = np.sort(names)\n",
        "print(names)"
      ],
      "execution_count": 569,
      "outputs": [
        {
          "output_type": "stream",
          "text": [
            "['basic.4y' 'basic.6y' 'basic.9y' 'high.school' 'illiterate'\n",
            " 'professional.course' 'university.degree' 'unknown']\n"
          ],
          "name": "stdout"
        }
      ]
    },
    {
      "cell_type": "code",
      "metadata": {
        "colab": {
          "base_uri": "https://localhost:8080/"
        },
        "id": "lWf7_WlEDrYL",
        "outputId": "e4bead16-66fd-4ad4-cd23-334c18fdb5e9"
      },
      "source": [
        "# categories display \n",
        "names = df.default.unique()\n",
        "names = np.sort(names)\n",
        "print(names)"
      ],
      "execution_count": 570,
      "outputs": [
        {
          "output_type": "stream",
          "text": [
            "['no' 'unknown' 'yes']\n"
          ],
          "name": "stdout"
        }
      ]
    },
    {
      "cell_type": "code",
      "metadata": {
        "colab": {
          "base_uri": "https://localhost:8080/"
        },
        "id": "G7F9agaFbdQv",
        "outputId": "c5c21f2e-dbf1-412c-e473-9b0ac8098f8a"
      },
      "source": [
        "# categories display \n",
        "names = df.housing.unique()\n",
        "names = np.sort(names)\n",
        "print(names)"
      ],
      "execution_count": 571,
      "outputs": [
        {
          "output_type": "stream",
          "text": [
            "['no' 'unknown' 'yes']\n"
          ],
          "name": "stdout"
        }
      ]
    },
    {
      "cell_type": "code",
      "metadata": {
        "colab": {
          "base_uri": "https://localhost:8080/"
        },
        "id": "JlkWGwbubibl",
        "outputId": "c09dd891-bbf6-4070-c140-90e498a04786"
      },
      "source": [
        "# categories display \n",
        "names = df.loan.unique()\n",
        "names = np.sort(names)\n",
        "print(names)"
      ],
      "execution_count": 572,
      "outputs": [
        {
          "output_type": "stream",
          "text": [
            "['no' 'unknown' 'yes']\n"
          ],
          "name": "stdout"
        }
      ]
    },
    {
      "cell_type": "code",
      "metadata": {
        "colab": {
          "base_uri": "https://localhost:8080/"
        },
        "id": "bMIannXTbnu7",
        "outputId": "bc2d86a9-8bf1-4b58-a127-a7de3abe3037"
      },
      "source": [
        "# categories display \n",
        "names = df.contact.unique()\n",
        "names = np.sort(names)\n",
        "print(names)"
      ],
      "execution_count": 573,
      "outputs": [
        {
          "output_type": "stream",
          "text": [
            "['cellular' 'telephone']\n"
          ],
          "name": "stdout"
        }
      ]
    },
    {
      "cell_type": "code",
      "metadata": {
        "colab": {
          "base_uri": "https://localhost:8080/"
        },
        "id": "OxyDy-_ybsnD",
        "outputId": "9cc5fef8-a682-4fa3-faef-7891a6cd1797"
      },
      "source": [
        "# categories display\n",
        "names = df.month.unique()\n",
        "names = np.sort(names)\n",
        "print(names)"
      ],
      "execution_count": 574,
      "outputs": [
        {
          "output_type": "stream",
          "text": [
            "['apr' 'aug' 'dec' 'jul' 'jun' 'mar' 'may' 'nov' 'oct' 'sep']\n"
          ],
          "name": "stdout"
        }
      ]
    },
    {
      "cell_type": "code",
      "metadata": {
        "colab": {
          "base_uri": "https://localhost:8080/"
        },
        "id": "RrFGQpP8bxPl",
        "outputId": "69c7f6f3-a79e-43d6-8cd9-75cc65d43fd7"
      },
      "source": [
        "# categories display \n",
        "names = df.day_of_week.unique()\n",
        "names = np.sort(names)\n",
        "print(names)"
      ],
      "execution_count": 575,
      "outputs": [
        {
          "output_type": "stream",
          "text": [
            "['fri' 'mon' 'thu' 'tue' 'wed']\n"
          ],
          "name": "stdout"
        }
      ]
    },
    {
      "cell_type": "code",
      "metadata": {
        "colab": {
          "base_uri": "https://localhost:8080/"
        },
        "id": "b60SMuJ6b0nj",
        "outputId": "05e378f5-d2ff-48b5-81c0-11fe960c5757"
      },
      "source": [
        "# categories display\n",
        "names = df.poutcome.unique()\n",
        "names = np.sort(names)\n",
        "print(names)"
      ],
      "execution_count": 576,
      "outputs": [
        {
          "output_type": "stream",
          "text": [
            "['failure' 'nonexistent' 'success']\n"
          ],
          "name": "stdout"
        }
      ]
    },
    {
      "cell_type": "markdown",
      "metadata": {
        "id": "BFffePvNco7U"
      },
      "source": [
        "Will apply lable encoding, since one-hot encoding will make the dataframe very lengthy."
      ]
    },
    {
      "cell_type": "markdown",
      "metadata": {
        "id": "J5pP8AQbjHsB"
      },
      "source": [
        "**Data coding for \"job\"**"
      ]
    },
    {
      "cell_type": "code",
      "metadata": {
        "id": "KFjlraYnAC69"
      },
      "source": [
        "# label encoding\n",
        "df['job'] = df['job'].astype('category')\n",
        "df['job'] = df['job'].cat.codes\n"
      ],
      "execution_count": 577,
      "outputs": []
    },
    {
      "cell_type": "code",
      "metadata": {
        "colab": {
          "base_uri": "https://localhost:8080/"
        },
        "id": "-shwrsISyqB2",
        "outputId": "2a02da0d-8ba9-469b-f5b9-c3d81cdecd1e"
      },
      "source": [
        "df.shape"
      ],
      "execution_count": 578,
      "outputs": [
        {
          "output_type": "execute_result",
          "data": {
            "text/plain": [
              "(35925, 20)"
            ]
          },
          "metadata": {
            "tags": []
          },
          "execution_count": 578
        }
      ]
    },
    {
      "cell_type": "code",
      "metadata": {
        "colab": {
          "base_uri": "https://localhost:8080/"
        },
        "id": "Vkg-eEV-eH9i",
        "outputId": "5f8279b5-0285-491e-b542-11da33151cb5"
      },
      "source": [
        "df.dtypes"
      ],
      "execution_count": 579,
      "outputs": [
        {
          "output_type": "execute_result",
          "data": {
            "text/plain": [
              "age               float64\n",
              "job                  int8\n",
              "marital            object\n",
              "education          object\n",
              "default            object\n",
              "housing            object\n",
              "loan               object\n",
              "contact            object\n",
              "month              object\n",
              "day_of_week        object\n",
              "campaign          float64\n",
              "pdays               int64\n",
              "previous          float64\n",
              "poutcome           object\n",
              "emp_var_rate      float64\n",
              "cons_price_idx    float64\n",
              "cons_conf_idx     float64\n",
              "euribor3m         float64\n",
              "nr_employed       float64\n",
              "y                   int64\n",
              "dtype: object"
            ]
          },
          "metadata": {
            "tags": []
          },
          "execution_count": 579
        }
      ]
    },
    {
      "cell_type": "code",
      "metadata": {
        "colab": {
          "base_uri": "https://localhost:8080/",
          "height": 383
        },
        "id": "6L0zwi_DjfF4",
        "outputId": "b2f53557-088c-4345-eea9-53484a0a920c"
      },
      "source": [
        "df.head(10)"
      ],
      "execution_count": 580,
      "outputs": [
        {
          "output_type": "execute_result",
          "data": {
            "text/html": [
              "<div>\n",
              "<style scoped>\n",
              "    .dataframe tbody tr th:only-of-type {\n",
              "        vertical-align: middle;\n",
              "    }\n",
              "\n",
              "    .dataframe tbody tr th {\n",
              "        vertical-align: top;\n",
              "    }\n",
              "\n",
              "    .dataframe thead th {\n",
              "        text-align: right;\n",
              "    }\n",
              "</style>\n",
              "<table border=\"1\" class=\"dataframe\">\n",
              "  <thead>\n",
              "    <tr style=\"text-align: right;\">\n",
              "      <th></th>\n",
              "      <th>age</th>\n",
              "      <th>job</th>\n",
              "      <th>marital</th>\n",
              "      <th>education</th>\n",
              "      <th>default</th>\n",
              "      <th>housing</th>\n",
              "      <th>loan</th>\n",
              "      <th>contact</th>\n",
              "      <th>month</th>\n",
              "      <th>day_of_week</th>\n",
              "      <th>campaign</th>\n",
              "      <th>pdays</th>\n",
              "      <th>previous</th>\n",
              "      <th>poutcome</th>\n",
              "      <th>emp_var_rate</th>\n",
              "      <th>cons_price_idx</th>\n",
              "      <th>cons_conf_idx</th>\n",
              "      <th>euribor3m</th>\n",
              "      <th>nr_employed</th>\n",
              "      <th>y</th>\n",
              "    </tr>\n",
              "  </thead>\n",
              "  <tbody>\n",
              "    <tr>\n",
              "      <th>0</th>\n",
              "      <td>6.633250</td>\n",
              "      <td>1</td>\n",
              "      <td>married</td>\n",
              "      <td>basic.4y</td>\n",
              "      <td>unknown</td>\n",
              "      <td>yes</td>\n",
              "      <td>no</td>\n",
              "      <td>cellular</td>\n",
              "      <td>aug</td>\n",
              "      <td>thu</td>\n",
              "      <td>1.000000</td>\n",
              "      <td>998001</td>\n",
              "      <td>0.000000</td>\n",
              "      <td>nonexistent</td>\n",
              "      <td>1.4</td>\n",
              "      <td>93.444</td>\n",
              "      <td>-36.1</td>\n",
              "      <td>4.963</td>\n",
              "      <td>5228.1</td>\n",
              "      <td>0</td>\n",
              "    </tr>\n",
              "    <tr>\n",
              "      <th>1</th>\n",
              "      <td>7.280110</td>\n",
              "      <td>9</td>\n",
              "      <td>married</td>\n",
              "      <td>unknown</td>\n",
              "      <td>no</td>\n",
              "      <td>no</td>\n",
              "      <td>no</td>\n",
              "      <td>cellular</td>\n",
              "      <td>nov</td>\n",
              "      <td>fri</td>\n",
              "      <td>1.000000</td>\n",
              "      <td>998001</td>\n",
              "      <td>0.000000</td>\n",
              "      <td>nonexistent</td>\n",
              "      <td>-0.1</td>\n",
              "      <td>93.200</td>\n",
              "      <td>-42.0</td>\n",
              "      <td>4.021</td>\n",
              "      <td>5195.8</td>\n",
              "      <td>0</td>\n",
              "    </tr>\n",
              "    <tr>\n",
              "      <th>2</th>\n",
              "      <td>5.291503</td>\n",
              "      <td>4</td>\n",
              "      <td>single</td>\n",
              "      <td>university.degree</td>\n",
              "      <td>no</td>\n",
              "      <td>yes</td>\n",
              "      <td>no</td>\n",
              "      <td>cellular</td>\n",
              "      <td>jun</td>\n",
              "      <td>thu</td>\n",
              "      <td>1.732051</td>\n",
              "      <td>36</td>\n",
              "      <td>1.414214</td>\n",
              "      <td>success</td>\n",
              "      <td>-1.7</td>\n",
              "      <td>94.055</td>\n",
              "      <td>-39.8</td>\n",
              "      <td>0.729</td>\n",
              "      <td>4991.6</td>\n",
              "      <td>1</td>\n",
              "    </tr>\n",
              "    <tr>\n",
              "      <th>5</th>\n",
              "      <td>5.477226</td>\n",
              "      <td>4</td>\n",
              "      <td>divorced</td>\n",
              "      <td>basic.4y</td>\n",
              "      <td>no</td>\n",
              "      <td>yes</td>\n",
              "      <td>no</td>\n",
              "      <td>cellular</td>\n",
              "      <td>jul</td>\n",
              "      <td>tue</td>\n",
              "      <td>2.828427</td>\n",
              "      <td>998001</td>\n",
              "      <td>0.000000</td>\n",
              "      <td>nonexistent</td>\n",
              "      <td>1.4</td>\n",
              "      <td>93.918</td>\n",
              "      <td>-42.7</td>\n",
              "      <td>4.961</td>\n",
              "      <td>5228.1</td>\n",
              "      <td>0</td>\n",
              "    </tr>\n",
              "    <tr>\n",
              "      <th>6</th>\n",
              "      <td>6.082763</td>\n",
              "      <td>1</td>\n",
              "      <td>married</td>\n",
              "      <td>basic.4y</td>\n",
              "      <td>no</td>\n",
              "      <td>yes</td>\n",
              "      <td>no</td>\n",
              "      <td>cellular</td>\n",
              "      <td>may</td>\n",
              "      <td>thu</td>\n",
              "      <td>1.000000</td>\n",
              "      <td>998001</td>\n",
              "      <td>0.000000</td>\n",
              "      <td>nonexistent</td>\n",
              "      <td>-1.8</td>\n",
              "      <td>92.893</td>\n",
              "      <td>-46.2</td>\n",
              "      <td>1.327</td>\n",
              "      <td>5099.1</td>\n",
              "      <td>0</td>\n",
              "    </tr>\n",
              "    <tr>\n",
              "      <th>7</th>\n",
              "      <td>6.244998</td>\n",
              "      <td>1</td>\n",
              "      <td>divorced</td>\n",
              "      <td>basic.9y</td>\n",
              "      <td>no</td>\n",
              "      <td>yes</td>\n",
              "      <td>no</td>\n",
              "      <td>cellular</td>\n",
              "      <td>may</td>\n",
              "      <td>fri</td>\n",
              "      <td>1.000000</td>\n",
              "      <td>998001</td>\n",
              "      <td>0.000000</td>\n",
              "      <td>nonexistent</td>\n",
              "      <td>-1.8</td>\n",
              "      <td>92.893</td>\n",
              "      <td>-46.2</td>\n",
              "      <td>1.313</td>\n",
              "      <td>5099.1</td>\n",
              "      <td>0</td>\n",
              "    </tr>\n",
              "    <tr>\n",
              "      <th>8</th>\n",
              "      <td>6.000000</td>\n",
              "      <td>0</td>\n",
              "      <td>married</td>\n",
              "      <td>university.degree</td>\n",
              "      <td>no</td>\n",
              "      <td>no</td>\n",
              "      <td>no</td>\n",
              "      <td>cellular</td>\n",
              "      <td>jun</td>\n",
              "      <td>mon</td>\n",
              "      <td>1.000000</td>\n",
              "      <td>9</td>\n",
              "      <td>1.000000</td>\n",
              "      <td>success</td>\n",
              "      <td>-2.9</td>\n",
              "      <td>92.963</td>\n",
              "      <td>-40.8</td>\n",
              "      <td>1.266</td>\n",
              "      <td>5076.2</td>\n",
              "      <td>1</td>\n",
              "    </tr>\n",
              "    <tr>\n",
              "      <th>10</th>\n",
              "      <td>5.830952</td>\n",
              "      <td>3</td>\n",
              "      <td>single</td>\n",
              "      <td>university.degree</td>\n",
              "      <td>no</td>\n",
              "      <td>no</td>\n",
              "      <td>no</td>\n",
              "      <td>telephone</td>\n",
              "      <td>may</td>\n",
              "      <td>fri</td>\n",
              "      <td>1.414214</td>\n",
              "      <td>998001</td>\n",
              "      <td>0.000000</td>\n",
              "      <td>nonexistent</td>\n",
              "      <td>1.1</td>\n",
              "      <td>93.994</td>\n",
              "      <td>-36.4</td>\n",
              "      <td>4.864</td>\n",
              "      <td>5191.0</td>\n",
              "      <td>0</td>\n",
              "    </tr>\n",
              "    <tr>\n",
              "      <th>11</th>\n",
              "      <td>6.403124</td>\n",
              "      <td>4</td>\n",
              "      <td>married</td>\n",
              "      <td>university.degree</td>\n",
              "      <td>no</td>\n",
              "      <td>yes</td>\n",
              "      <td>no</td>\n",
              "      <td>cellular</td>\n",
              "      <td>aug</td>\n",
              "      <td>thu</td>\n",
              "      <td>1.000000</td>\n",
              "      <td>998001</td>\n",
              "      <td>0.000000</td>\n",
              "      <td>nonexistent</td>\n",
              "      <td>1.4</td>\n",
              "      <td>93.444</td>\n",
              "      <td>-36.1</td>\n",
              "      <td>4.964</td>\n",
              "      <td>5228.1</td>\n",
              "      <td>0</td>\n",
              "    </tr>\n",
              "    <tr>\n",
              "      <th>12</th>\n",
              "      <td>7.416198</td>\n",
              "      <td>4</td>\n",
              "      <td>married</td>\n",
              "      <td>university.degree</td>\n",
              "      <td>no</td>\n",
              "      <td>no</td>\n",
              "      <td>no</td>\n",
              "      <td>cellular</td>\n",
              "      <td>aug</td>\n",
              "      <td>mon</td>\n",
              "      <td>1.732051</td>\n",
              "      <td>998001</td>\n",
              "      <td>0.000000</td>\n",
              "      <td>nonexistent</td>\n",
              "      <td>1.4</td>\n",
              "      <td>93.444</td>\n",
              "      <td>-36.1</td>\n",
              "      <td>4.965</td>\n",
              "      <td>5228.1</td>\n",
              "      <td>1</td>\n",
              "    </tr>\n",
              "  </tbody>\n",
              "</table>\n",
              "</div>"
            ],
            "text/plain": [
              "         age  job   marital  ... euribor3m nr_employed  y\n",
              "0   6.633250    1   married  ...     4.963      5228.1  0\n",
              "1   7.280110    9   married  ...     4.021      5195.8  0\n",
              "2   5.291503    4    single  ...     0.729      4991.6  1\n",
              "5   5.477226    4  divorced  ...     4.961      5228.1  0\n",
              "6   6.082763    1   married  ...     1.327      5099.1  0\n",
              "7   6.244998    1  divorced  ...     1.313      5099.1  0\n",
              "8   6.000000    0   married  ...     1.266      5076.2  1\n",
              "10  5.830952    3    single  ...     4.864      5191.0  0\n",
              "11  6.403124    4   married  ...     4.964      5228.1  0\n",
              "12  7.416198    4   married  ...     4.965      5228.1  1\n",
              "\n",
              "[10 rows x 20 columns]"
            ]
          },
          "metadata": {
            "tags": []
          },
          "execution_count": 580
        }
      ]
    },
    {
      "cell_type": "markdown",
      "metadata": {
        "id": "qWLCHdHLBOO9"
      },
      "source": [
        "**Data coding for \"marital\"**"
      ]
    },
    {
      "cell_type": "code",
      "metadata": {
        "id": "AQL6vm92dfhs"
      },
      "source": [
        "# label encoding\n",
        "df['marital'] = df['marital'].astype('category')\n",
        "df['marital'] = df['marital'].cat.codes\n",
        "\n"
      ],
      "execution_count": 581,
      "outputs": []
    },
    {
      "cell_type": "code",
      "metadata": {
        "colab": {
          "base_uri": "https://localhost:8080/"
        },
        "id": "bm_GXLfWBWAr",
        "outputId": "96273b0f-531e-4b0c-d1ca-1af2a371a6dd"
      },
      "source": [
        "df.dtypes"
      ],
      "execution_count": 582,
      "outputs": [
        {
          "output_type": "execute_result",
          "data": {
            "text/plain": [
              "age               float64\n",
              "job                  int8\n",
              "marital              int8\n",
              "education          object\n",
              "default            object\n",
              "housing            object\n",
              "loan               object\n",
              "contact            object\n",
              "month              object\n",
              "day_of_week        object\n",
              "campaign          float64\n",
              "pdays               int64\n",
              "previous          float64\n",
              "poutcome           object\n",
              "emp_var_rate      float64\n",
              "cons_price_idx    float64\n",
              "cons_conf_idx     float64\n",
              "euribor3m         float64\n",
              "nr_employed       float64\n",
              "y                   int64\n",
              "dtype: object"
            ]
          },
          "metadata": {
            "tags": []
          },
          "execution_count": 582
        }
      ]
    },
    {
      "cell_type": "markdown",
      "metadata": {
        "id": "5Kc6Q90bDOVx"
      },
      "source": [
        "**Data coding for \"education\"**"
      ]
    },
    {
      "cell_type": "code",
      "metadata": {
        "id": "kPkTuJKZePdi"
      },
      "source": [
        "# label encoding\n",
        "df['education'] = df['education'].astype('category')\n",
        "df['education'] = df['education'].cat.codes"
      ],
      "execution_count": 583,
      "outputs": []
    },
    {
      "cell_type": "markdown",
      "metadata": {
        "id": "HsJxJsThokmX"
      },
      "source": [
        "**Data coding for \"default\"**"
      ]
    },
    {
      "cell_type": "code",
      "metadata": {
        "id": "DoB6j-Hjx2_P"
      },
      "source": [
        "# label encoding\n",
        "df['default'] = df['default'].astype('category')\n",
        "df['default'] = df['default'].cat.codes\n"
      ],
      "execution_count": 584,
      "outputs": []
    },
    {
      "cell_type": "code",
      "metadata": {
        "colab": {
          "base_uri": "https://localhost:8080/"
        },
        "id": "ddvVvjLWB5zu",
        "outputId": "0c888361-9095-49e1-e614-f443f6e8dd1b"
      },
      "source": [
        "df.dtypes"
      ],
      "execution_count": 585,
      "outputs": [
        {
          "output_type": "execute_result",
          "data": {
            "text/plain": [
              "age               float64\n",
              "job                  int8\n",
              "marital              int8\n",
              "education            int8\n",
              "default              int8\n",
              "housing            object\n",
              "loan               object\n",
              "contact            object\n",
              "month              object\n",
              "day_of_week        object\n",
              "campaign          float64\n",
              "pdays               int64\n",
              "previous          float64\n",
              "poutcome           object\n",
              "emp_var_rate      float64\n",
              "cons_price_idx    float64\n",
              "cons_conf_idx     float64\n",
              "euribor3m         float64\n",
              "nr_employed       float64\n",
              "y                   int64\n",
              "dtype: object"
            ]
          },
          "metadata": {
            "tags": []
          },
          "execution_count": 585
        }
      ]
    },
    {
      "cell_type": "markdown",
      "metadata": {
        "id": "zcRPki6-vLeU"
      },
      "source": [
        "**Data coding for \"housing\"**"
      ]
    },
    {
      "cell_type": "code",
      "metadata": {
        "id": "wRVDt7KvypWq"
      },
      "source": [
        "# label encoding\n",
        "df['housing'] = df['housing'].astype('category')\n",
        "df['housing'] = df['housing'].cat.codes\n",
        "\n"
      ],
      "execution_count": 586,
      "outputs": []
    },
    {
      "cell_type": "markdown",
      "metadata": {
        "id": "OtByy2gXfnNO"
      },
      "source": [
        "**Data coding for \"loan\"**"
      ]
    },
    {
      "cell_type": "code",
      "metadata": {
        "id": "gT5p3YYTz3cj"
      },
      "source": [
        "# label encoding\n",
        "df['loan'] = df['loan'].astype('category')\n",
        "df['loan'] = df['loan'].cat.codes\n",
        "\n"
      ],
      "execution_count": 587,
      "outputs": []
    },
    {
      "cell_type": "markdown",
      "metadata": {
        "id": "C5lnI1S9g_k5"
      },
      "source": [
        "**Data coding for \"contact\"**"
      ]
    },
    {
      "cell_type": "code",
      "metadata": {
        "id": "T9LSeweP0I96"
      },
      "source": [
        "# label encoding\n",
        "df['contact'] = df['contact'].astype('category')\n",
        "df['contact'] = df['contact'].cat.codes\n",
        "\n"
      ],
      "execution_count": 588,
      "outputs": []
    },
    {
      "cell_type": "markdown",
      "metadata": {
        "id": "9l3gi6sMjZEW"
      },
      "source": [
        "**Data coding for \"month\"**"
      ]
    },
    {
      "cell_type": "code",
      "metadata": {
        "id": "ljBBHLNEjZEn"
      },
      "source": [
        "# label encoding\n",
        "df['month'] = df['month'].astype('category')\n",
        "df['month'] = df['month'].cat.codes"
      ],
      "execution_count": 589,
      "outputs": []
    },
    {
      "cell_type": "markdown",
      "metadata": {
        "id": "LQBzqc52kKqR"
      },
      "source": [
        "**Data coding for \"day_of_week\"**"
      ]
    },
    {
      "cell_type": "code",
      "metadata": {
        "id": "Vyj-WBWpp9h7"
      },
      "source": [
        "# label encoding\n",
        "df['day_of_week'] = df['day_of_week'].astype('category')\n",
        "df['day_of_week'] = df['day_of_week'].cat.codes"
      ],
      "execution_count": 590,
      "outputs": []
    },
    {
      "cell_type": "markdown",
      "metadata": {
        "id": "1kn89Y_EmJkQ"
      },
      "source": [
        "**Data coding for \"poutcome\"**"
      ]
    },
    {
      "cell_type": "code",
      "metadata": {
        "id": "onr2-EwT0X4H"
      },
      "source": [
        "# label encoding\n",
        "df['poutcome'] = df['poutcome'].astype('category')\n",
        "df['poutcome'] = df['poutcome'].cat.codes\n",
        "\n"
      ],
      "execution_count": 591,
      "outputs": []
    },
    {
      "cell_type": "code",
      "metadata": {
        "colab": {
          "base_uri": "https://localhost:8080/"
        },
        "id": "CBD4WxUuyT7O",
        "outputId": "4a653c49-9a5d-4298-c483-3cddac315468"
      },
      "source": [
        "df.dtypes"
      ],
      "execution_count": 592,
      "outputs": [
        {
          "output_type": "execute_result",
          "data": {
            "text/plain": [
              "age               float64\n",
              "job                  int8\n",
              "marital              int8\n",
              "education            int8\n",
              "default              int8\n",
              "housing              int8\n",
              "loan                 int8\n",
              "contact              int8\n",
              "month                int8\n",
              "day_of_week          int8\n",
              "campaign          float64\n",
              "pdays               int64\n",
              "previous          float64\n",
              "poutcome             int8\n",
              "emp_var_rate      float64\n",
              "cons_price_idx    float64\n",
              "cons_conf_idx     float64\n",
              "euribor3m         float64\n",
              "nr_employed       float64\n",
              "y                   int64\n",
              "dtype: object"
            ]
          },
          "metadata": {
            "tags": []
          },
          "execution_count": 592
        }
      ]
    },
    {
      "cell_type": "code",
      "metadata": {
        "colab": {
          "base_uri": "https://localhost:8080/"
        },
        "id": "KUeC2QV-2EM9",
        "outputId": "8bae3cb0-5360-462b-cb10-bef2121bf03e"
      },
      "source": [
        "df.shape"
      ],
      "execution_count": 593,
      "outputs": [
        {
          "output_type": "execute_result",
          "data": {
            "text/plain": [
              "(35925, 20)"
            ]
          },
          "metadata": {
            "tags": []
          },
          "execution_count": 593
        }
      ]
    },
    {
      "cell_type": "code",
      "metadata": {
        "colab": {
          "base_uri": "https://localhost:8080/"
        },
        "id": "1TdMgWa4KPpJ",
        "outputId": "75dc3f50-d0ec-424e-fdc8-cb916379a4d2"
      },
      "source": [
        "# checking missing values,to ensure no error occured\n",
        "df.isnull().sum()"
      ],
      "execution_count": 594,
      "outputs": [
        {
          "output_type": "execute_result",
          "data": {
            "text/plain": [
              "age               0\n",
              "job               0\n",
              "marital           0\n",
              "education         0\n",
              "default           0\n",
              "housing           0\n",
              "loan              0\n",
              "contact           0\n",
              "month             0\n",
              "day_of_week       0\n",
              "campaign          0\n",
              "pdays             0\n",
              "previous          0\n",
              "poutcome          0\n",
              "emp_var_rate      0\n",
              "cons_price_idx    0\n",
              "cons_conf_idx     0\n",
              "euribor3m         0\n",
              "nr_employed       0\n",
              "y                 0\n",
              "dtype: int64"
            ]
          },
          "metadata": {
            "tags": []
          },
          "execution_count": 594
        }
      ]
    },
    {
      "cell_type": "markdown",
      "metadata": {
        "id": "jp-JAfTVuSnb"
      },
      "source": [
        "**<h1>Scaling Features</h1>**"
      ]
    },
    {
      "cell_type": "markdown",
      "metadata": {
        "id": "AFdDjNjTpyHc"
      },
      "source": [
        "For non-categorical features."
      ]
    },
    {
      "cell_type": "code",
      "metadata": {
        "id": "_j_O0la3s58W"
      },
      "source": [
        "# separating target\n",
        "column = ['y']\n",
        "y = pd.DataFrame(df[column], columns=['y'])\n",
        "\n",
        "#y.head()"
      ],
      "execution_count": 595,
      "outputs": []
    },
    {
      "cell_type": "code",
      "metadata": {
        "id": "_7oqR_apuXDU"
      },
      "source": [
        "# separating non-categorical features\n",
        "column = ['age','campaign','previous','pdays','emp_var_rate','cons_price_idx','cons_conf_idx','euribor3m','nr_employed']\n",
        "numerical = pd.DataFrame(df[column], columns = column)\n",
        "#numerical.dtypes"
      ],
      "execution_count": 596,
      "outputs": []
    },
    {
      "cell_type": "code",
      "metadata": {
        "id": "YGXrroFasJtG"
      },
      "source": [
        "# separating categorical features\n",
        "categorical = df.drop(columns=['age','campaign','previous','pdays','emp_var_rate','cons_price_idx','cons_conf_idx','euribor3m','nr_employed','y'])"
      ],
      "execution_count": 597,
      "outputs": []
    },
    {
      "cell_type": "markdown",
      "metadata": {
        "id": "CzrgkkDqxJcP"
      },
      "source": [
        "**Before scaling**"
      ]
    },
    {
      "cell_type": "code",
      "metadata": {
        "id": "Ph2hjHuqL7A_"
      },
      "source": [
        "column = ['age','campaign','previous','pdays','emp_var_rate','cons_price_idx','cons_conf_idx','euribor3m','nr_employed']"
      ],
      "execution_count": 598,
      "outputs": []
    },
    {
      "cell_type": "code",
      "metadata": {
        "colab": {
          "base_uri": "https://localhost:8080/",
          "height": 455
        },
        "id": "S2GM2EL8xOG4",
        "outputId": "a97e0ab9-a8ca-44f9-c6cc-722e6d0deda6"
      },
      "source": [
        "# histogram drawing\n",
        "numerical[column].hist()"
      ],
      "execution_count": 599,
      "outputs": [
        {
          "output_type": "execute_result",
          "data": {
            "text/plain": [
              "array([[<matplotlib.axes._subplots.AxesSubplot object at 0x7ff22cd351d0>,\n",
              "        <matplotlib.axes._subplots.AxesSubplot object at 0x7ff22cdeb850>,\n",
              "        <matplotlib.axes._subplots.AxesSubplot object at 0x7ff22ce31d90>],\n",
              "       [<matplotlib.axes._subplots.AxesSubplot object at 0x7ff22cee1fd0>,\n",
              "        <matplotlib.axes._subplots.AxesSubplot object at 0x7ff22d006910>,\n",
              "        <matplotlib.axes._subplots.AxesSubplot object at 0x7ff22d1311d0>],\n",
              "       [<matplotlib.axes._subplots.AxesSubplot object at 0x7ff22d092f90>,\n",
              "        <matplotlib.axes._subplots.AxesSubplot object at 0x7ff22d1e3c10>,\n",
              "        <matplotlib.axes._subplots.AxesSubplot object at 0x7ff22d1e3b90>]],\n",
              "      dtype=object)"
            ]
          },
          "metadata": {
            "tags": []
          },
          "execution_count": 599
        },
        {
          "output_type": "display_data",
          "data": {
            "image/png": "[encoded data removed]",
            "text/plain": [
              "<Figure size 432x288 with 9 Axes>"
            ]
          },
          "metadata": {
            "tags": [],
            "needs_background": "light"
          }
        }
      ]
    },
    {
      "cell_type": "code",
      "metadata": {
        "colab": {
          "base_uri": "https://localhost:8080/"
        },
        "id": "1RjAbf8swr_7",
        "outputId": "8502edcb-bc38-4651-d5db-3786af0ffb76"
      },
      "source": [
        "import pandas as pd\n",
        "from sklearn.preprocessing import StandardScaler\n",
        "\n",
        "# creating scaler object\n",
        "scaler = StandardScaler()\n",
        "\n",
        "# scaler fitting on data\n",
        "scaler.fit(numerical)\n",
        "\n",
        "# transformation\n",
        "d_new = scaler.transform(numerical)\n",
        "\n",
        "# re-assigning transformed values\n",
        "numerical['age'] = d_new[:,0]\n",
        "numerical['campaign'] = d_new[:,1]\n",
        "numerical['previous'] = d_new[:,2]\n",
        "numerical['pdays'] = d_new[:,3]\n",
        "numerical['emp_var_rate'] = d_new[:,4]\n",
        "numerical['cons_price_idx'] = d_new[:,5]\n",
        "numerical['cons_conf_idx'] = d_new[:,6]\n",
        "numerical['euribor3m'] = d_new[:,7]\n",
        "numerical['nr_employed'] = d_new[:,8]\n",
        "\n",
        "# joining separated dataframes\n",
        "df = numerical.join(categorical)\n",
        "df = df.join(y)\n",
        "df.dtypes"
      ],
      "execution_count": 600,
      "outputs": [
        {
          "output_type": "execute_result",
          "data": {
            "text/plain": [
              "age               float64\n",
              "campaign          float64\n",
              "previous          float64\n",
              "pdays             float64\n",
              "emp_var_rate      float64\n",
              "cons_price_idx    float64\n",
              "cons_conf_idx     float64\n",
              "euribor3m         float64\n",
              "nr_employed       float64\n",
              "job                  int8\n",
              "marital              int8\n",
              "education            int8\n",
              "default              int8\n",
              "housing              int8\n",
              "loan                 int8\n",
              "contact              int8\n",
              "month                int8\n",
              "day_of_week          int8\n",
              "poutcome             int8\n",
              "y                   int64\n",
              "dtype: object"
            ]
          },
          "metadata": {
            "tags": []
          },
          "execution_count": 600
        }
      ]
    },
    {
      "cell_type": "code",
      "metadata": {
        "colab": {
          "base_uri": "https://localhost:8080/"
        },
        "id": "A4AjcjB-j-9k",
        "outputId": "4cc851e2-d0f2-4c55-a2ff-a483f5bce95f"
      },
      "source": [
        "# checking missing values,to ensure no error occured\n",
        "df.isnull().sum()"
      ],
      "execution_count": 601,
      "outputs": [
        {
          "output_type": "execute_result",
          "data": {
            "text/plain": [
              "age               0\n",
              "campaign          0\n",
              "previous          0\n",
              "pdays             0\n",
              "emp_var_rate      0\n",
              "cons_price_idx    0\n",
              "cons_conf_idx     0\n",
              "euribor3m         0\n",
              "nr_employed       0\n",
              "job               0\n",
              "marital           0\n",
              "education         0\n",
              "default           0\n",
              "housing           0\n",
              "loan              0\n",
              "contact           0\n",
              "month             0\n",
              "day_of_week       0\n",
              "poutcome          0\n",
              "y                 0\n",
              "dtype: int64"
            ]
          },
          "metadata": {
            "tags": []
          },
          "execution_count": 601
        }
      ]
    },
    {
      "cell_type": "code",
      "metadata": {
        "colab": {
          "base_uri": "https://localhost:8080/"
        },
        "id": "fDa5RA1Cikx0",
        "outputId": "41a46d0b-0531-42c7-95f0-f669be81769f"
      },
      "source": [
        "df.shape"
      ],
      "execution_count": 602,
      "outputs": [
        {
          "output_type": "execute_result",
          "data": {
            "text/plain": [
              "(35925, 20)"
            ]
          },
          "metadata": {
            "tags": []
          },
          "execution_count": 602
        }
      ]
    },
    {
      "cell_type": "markdown",
      "metadata": {
        "id": "ZMm8e-fdxpBz"
      },
      "source": [
        "**After scaling**"
      ]
    },
    {
      "cell_type": "code",
      "metadata": {
        "colab": {
          "base_uri": "https://localhost:8080/",
          "height": 455
        },
        "id": "7Xevzm26xpB2",
        "outputId": "f23176ad-c157-4ebe-92de-fce7a703911c"
      },
      "source": [
        "# histogram drawing\n",
        "df[column].hist()"
      ],
      "execution_count": 603,
      "outputs": [
        {
          "output_type": "execute_result",
          "data": {
            "text/plain": [
              "array([[<matplotlib.axes._subplots.AxesSubplot object at 0x7ff22fa4ca50>,\n",
              "        <matplotlib.axes._subplots.AxesSubplot object at 0x7ff22f9e5490>,\n",
              "        <matplotlib.axes._subplots.AxesSubplot object at 0x7ff22e74fa50>],\n",
              "       [<matplotlib.axes._subplots.AxesSubplot object at 0x7ff22e7c5510>,\n",
              "        <matplotlib.axes._subplots.AxesSubplot object at 0x7ff22e7aa850>,\n",
              "        <matplotlib.axes._subplots.AxesSubplot object at 0x7ff22e3ad610>],\n",
              "       [<matplotlib.axes._subplots.AxesSubplot object at 0x7ff22e3e1810>,\n",
              "        <matplotlib.axes._subplots.AxesSubplot object at 0x7ff22cc6cb90>,\n",
              "        <matplotlib.axes._subplots.AxesSubplot object at 0x7ff22cc6c650>]],\n",
              "      dtype=object)"
            ]
          },
          "metadata": {
            "tags": []
          },
          "execution_count": 603
        },
        {
          "output_type": "display_data",
          "data": {
            "image/png": "[encoded data removed]",
            "text/plain": [
              "<Figure size 432x288 with 9 Axes>"
            ]
          },
          "metadata": {
            "tags": [],
            "needs_background": "light"
          }
        }
      ]
    },
    {
      "cell_type": "markdown",
      "metadata": {
        "id": "ECrJOoGmCPb2"
      },
      "source": [
        "**No descritization is applied, since the distribution of values is not within a huge range.**"
      ]
    },
    {
      "cell_type": "code",
      "metadata": {
        "id": "XM5KYxTcErcN"
      },
      "source": [
        "import seaborn as sns"
      ],
      "execution_count": 604,
      "outputs": []
    },
    {
      "cell_type": "code",
      "metadata": {
        "colab": {
          "base_uri": "https://localhost:8080/",
          "height": 279
        },
        "id": "Pp8HcqMT1neD",
        "outputId": "d0276425-f101-42c8-cd0e-22aee2fad65a"
      },
      "source": [
        "#checking class imbalance\n",
        "sns.countplot(x='y', data=df)\n",
        "plt.show()"
      ],
      "execution_count": 605,
      "outputs": [
        {
          "output_type": "display_data",
          "data": {
            "image/png": "[encoded data removed]",
            "text/plain": [
              "<Figure size 432x288 with 1 Axes>"
            ]
          },
          "metadata": {
            "tags": [],
            "needs_background": "light"
          }
        }
      ]
    },
    {
      "cell_type": "markdown",
      "metadata": {
        "id": "wJpU9f6HuI8Z"
      },
      "source": [
        "There is a class imbalance."
      ]
    },
    {
      "cell_type": "code",
      "metadata": {
        "colab": {
          "base_uri": "https://localhost:8080/"
        },
        "id": "og36N6XT3Z_i",
        "outputId": "03648082-55ad-4aa6-ae4c-fbdc7215a7e0"
      },
      "source": [
        "from imblearn.over_sampling import SMOTE\n",
        "\n",
        "os = SMOTE(random_state=0)\n",
        "column = ['y']\n",
        "y = pd.DataFrame(df[column],columns=column)\n",
        "x = df.drop(columns=['y'])\n",
        "y_array = np.ravel(y)\n",
        "smot_x, smot_y = os.fit_sample(x, y_array)\n",
        "\n",
        "smoted_x = pd.DataFrame(smot_x,columns=x.columns)\n",
        "smoted_y= pd.DataFrame(smot_y,columns=['y'])"
      ],
      "execution_count": 606,
      "outputs": [
        {
          "output_type": "stream",
          "text": [
            "/usr/local/lib/python3.7/dist-packages/sklearn/utils/deprecation.py:87: FutureWarning: Function safe_indexing is deprecated; safe_indexing is deprecated in version 0.22 and will be removed in version 0.24.\n",
            "  warnings.warn(msg, category=FutureWarning)\n"
          ],
          "name": "stderr"
        }
      ]
    },
    {
      "cell_type": "code",
      "metadata": {
        "id": "AiR7TbH1vSzj"
      },
      "source": [
        "df = smoted_x.join(smoted_y)"
      ],
      "execution_count": 607,
      "outputs": []
    },
    {
      "cell_type": "code",
      "metadata": {
        "colab": {
          "base_uri": "https://localhost:8080/",
          "height": 279
        },
        "id": "HkXmOpeXvcMr",
        "outputId": "449827fa-bfdf-4637-9f69-45dd141034d2"
      },
      "source": [
        "#checking if balanced\n",
        "sns.countplot(x='y', data=df)\n",
        "plt.show()"
      ],
      "execution_count": 608,
      "outputs": [
        {
          "output_type": "display_data",
          "data": {
            "image/png": "[encoded data removed]",
            "text/plain": [
              "<Figure size 432x288 with 1 Axes>"
            ]
          },
          "metadata": {
            "tags": [],
            "needs_background": "light"
          }
        }
      ]
    },
    {
      "cell_type": "markdown",
      "metadata": {
        "id": "P8B_aBwtkiQO"
      },
      "source": [
        "**<h1>Feature reduction</h1>**"
      ]
    },
    {
      "cell_type": "markdown",
      "metadata": {
        "id": "ASknZkc4kWII"
      },
      "source": [
        "**<h2>Heat map</h2>**"
      ]
    },
    {
      "cell_type": "code",
      "metadata": {
        "colab": {
          "base_uri": "https://localhost:8080/"
        },
        "id": "XboqIqnmsYC0",
        "outputId": "da2da482-9138-43c6-bf34-3d6d1d8bbf1d"
      },
      "source": [
        "print(df.corrwith(df[\"y\"]))"
      ],
      "execution_count": 609,
      "outputs": [
        {
          "output_type": "stream",
          "text": [
            "age              -0.017525\n",
            "campaign         -0.118974\n",
            "previous          0.259367\n",
            "pdays            -0.294969\n",
            "emp_var_rate     -0.360054\n",
            "cons_price_idx   -0.064914\n",
            "cons_conf_idx    -0.008268\n",
            "euribor3m        -0.383335\n",
            "nr_employed      -0.408696\n",
            "job               0.025714\n",
            "marital           0.080289\n",
            "education         0.079525\n",
            "default          -0.158356\n",
            "housing           0.015999\n",
            "loan             -0.040285\n",
            "contact          -0.228548\n",
            "month            -0.008748\n",
            "day_of_week       0.017698\n",
            "poutcome          0.169027\n",
            "y                 1.000000\n",
            "dtype: float64\n"
          ],
          "name": "stdout"
        }
      ]
    },
    {
      "cell_type": "code",
      "metadata": {
        "colab": {
          "base_uri": "https://localhost:8080/",
          "height": 840
        },
        "id": "oEvgX1-DlttM",
        "outputId": "b50b47cf-d0bb-4ef7-9fa4-d74bd9f62cc8"
      },
      "source": [
        "import matplotlib.pyplot as plt\n",
        "import seaborn as sns\n",
        "\n",
        "# drawing heat map \n",
        "plt.figure(figsize=(22,14))\n",
        "sns.heatmap(df.corr(),annot=True)"
      ],
      "execution_count": 610,
      "outputs": [
        {
          "output_type": "execute_result",
          "data": {
            "text/plain": [
              "<matplotlib.axes._subplots.AxesSubplot at 0x7ff22c9aaa10>"
            ]
          },
          "metadata": {
            "tags": []
          },
          "execution_count": 610
        },
        {
          "output_type": "display_data",
          "data": {
            "image/png": "[encoded data removed]",
            "text/plain": [
              "<Figure size 1584x1008 with 2 Axes>"
            ]
          },
          "metadata": {
            "tags": [],
            "needs_background": "light"
          }
        }
      ]
    },
    {
      "cell_type": "code",
      "metadata": {
        "colab": {
          "base_uri": "https://localhost:8080/"
        },
        "id": "85YNE3habg0k",
        "outputId": "8723d9b3-6b7e-4d97-96a7-93a230b6f6c1"
      },
      "source": [
        "print(df.corr())"
      ],
      "execution_count": 611,
      "outputs": [
        {
          "output_type": "stream",
          "text": [
            "                     age  campaign  previous  ...  day_of_week  poutcome         y\n",
            "age             1.000000  0.013551  0.012531  ...    -0.027586  0.039029 -0.017525\n",
            "campaign        0.013551  1.000000 -0.117541  ...    -0.072891 -0.029988 -0.118974\n",
            "previous        0.012531 -0.117541  1.000000  ...     0.029544  0.086173  0.259367\n",
            "pdays          -0.027312  0.105586 -0.746981  ...    -0.042521 -0.688214 -0.294969\n",
            "emp_var_rate    0.055450  0.193414 -0.495538  ...     0.007066 -0.019109 -0.360054\n",
            "cons_price_idx  0.094260  0.109118 -0.069874  ...     0.004094  0.201301 -0.064914\n",
            "cons_conf_idx   0.140151 -0.003308 -0.021058  ...     0.030917  0.196178 -0.008268\n",
            "euribor3m       0.035535  0.172644 -0.559502  ...     0.001686 -0.071153 -0.383335\n",
            "nr_employed    -0.004320  0.179903 -0.606372  ...    -0.012105 -0.159012 -0.408696\n",
            "job            -0.029551 -0.004438  0.044404  ...    -0.010191  0.019491  0.025714\n",
            "marital        -0.443654 -0.027662  0.089013  ...     0.019819  0.029746  0.080289\n",
            "education      -0.138029 -0.006401  0.079191  ...    -0.011922  0.032081  0.079525\n",
            "default         0.169411  0.053452 -0.155293  ...    -0.028717 -0.035962 -0.158356\n",
            "housing        -0.003445 -0.012206  0.025886  ...     0.004933  0.002807  0.015999\n",
            "loan           -0.004095  0.001862 -0.014302  ...    -0.018282 -0.007941 -0.040285\n",
            "contact         0.041865  0.084522 -0.246342  ...    -0.038499  0.007686 -0.228548\n",
            "month          -0.070398 -0.125540  0.107320  ...    -0.022897 -0.088312 -0.008748\n",
            "day_of_week    -0.027586 -0.072891  0.029544  ...     1.000000  0.031939  0.017698\n",
            "poutcome        0.039029 -0.029988  0.086173  ...     0.031939  1.000000  0.169027\n",
            "y              -0.017525 -0.118974  0.259367  ...     0.017698  0.169027  1.000000\n",
            "\n",
            "[20 rows x 20 columns]\n"
          ],
          "name": "stdout"
        }
      ]
    },
    {
      "cell_type": "markdown",
      "metadata": {
        "id": "DSSZtYJuA4uE"
      },
      "source": [
        "\"euribor3m\", \"emp_var_rate\" and \"nr_employed\" are highly positive correlated. Can remove 2 of them. "
      ]
    },
    {
      "cell_type": "code",
      "metadata": {
        "id": "IPMVbe7kPyuy"
      },
      "source": [
        "df = df.drop(columns=['euribor3m','nr_employed'])"
      ],
      "execution_count": 612,
      "outputs": []
    },
    {
      "cell_type": "code",
      "metadata": {
        "colab": {
          "base_uri": "https://localhost:8080/"
        },
        "id": "27K9dOR9QMJ9",
        "outputId": "e629eba6-6f19-4d28-fa90-f95d374749f6"
      },
      "source": [
        "df.shape"
      ],
      "execution_count": 613,
      "outputs": [
        {
          "output_type": "execute_result",
          "data": {
            "text/plain": [
              "(65752, 18)"
            ]
          },
          "metadata": {
            "tags": []
          },
          "execution_count": 613
        }
      ]
    },
    {
      "cell_type": "code",
      "metadata": {
        "colab": {
          "base_uri": "https://localhost:8080/",
          "height": 226
        },
        "id": "hFo5JoATUN2q",
        "outputId": "a252e87f-e203-4db6-e033-3d2cc3d76ece"
      },
      "source": [
        "df.head()"
      ],
      "execution_count": 614,
      "outputs": [
        {
          "output_type": "execute_result",
          "data": {
            "text/html": [
              "<div>\n",
              "<style scoped>\n",
              "    .dataframe tbody tr th:only-of-type {\n",
              "        vertical-align: middle;\n",
              "    }\n",
              "\n",
              "    .dataframe tbody tr th {\n",
              "        vertical-align: top;\n",
              "    }\n",
              "\n",
              "    .dataframe thead th {\n",
              "        text-align: right;\n",
              "    }\n",
              "</style>\n",
              "<table border=\"1\" class=\"dataframe\">\n",
              "  <thead>\n",
              "    <tr style=\"text-align: right;\">\n",
              "      <th></th>\n",
              "      <th>age</th>\n",
              "      <th>campaign</th>\n",
              "      <th>previous</th>\n",
              "      <th>pdays</th>\n",
              "      <th>emp_var_rate</th>\n",
              "      <th>cons_price_idx</th>\n",
              "      <th>cons_conf_idx</th>\n",
              "      <th>job</th>\n",
              "      <th>marital</th>\n",
              "      <th>education</th>\n",
              "      <th>default</th>\n",
              "      <th>housing</th>\n",
              "      <th>loan</th>\n",
              "      <th>contact</th>\n",
              "      <th>month</th>\n",
              "      <th>day_of_week</th>\n",
              "      <th>poutcome</th>\n",
              "      <th>y</th>\n",
              "    </tr>\n",
              "  </thead>\n",
              "  <tbody>\n",
              "    <tr>\n",
              "      <th>0</th>\n",
              "      <td>0.495230</td>\n",
              "      <td>-0.790736</td>\n",
              "      <td>-0.336366</td>\n",
              "      <td>0.157538</td>\n",
              "      <td>0.724126</td>\n",
              "      <td>-0.460691</td>\n",
              "      <td>1.198185</td>\n",
              "      <td>1.0</td>\n",
              "      <td>1.0</td>\n",
              "      <td>0.0</td>\n",
              "      <td>1.0</td>\n",
              "      <td>2.0</td>\n",
              "      <td>0.0</td>\n",
              "      <td>0.0</td>\n",
              "      <td>1.0</td>\n",
              "      <td>2.0</td>\n",
              "      <td>1.0</td>\n",
              "      <td>0</td>\n",
              "    </tr>\n",
              "    <tr>\n",
              "      <th>1</th>\n",
              "      <td>1.345441</td>\n",
              "      <td>-0.790736</td>\n",
              "      <td>-0.336366</td>\n",
              "      <td>0.157538</td>\n",
              "      <td>-0.399809</td>\n",
              "      <td>-0.943076</td>\n",
              "      <td>-0.406188</td>\n",
              "      <td>9.0</td>\n",
              "      <td>1.0</td>\n",
              "      <td>7.0</td>\n",
              "      <td>0.0</td>\n",
              "      <td>0.0</td>\n",
              "      <td>0.0</td>\n",
              "      <td>0.0</td>\n",
              "      <td>7.0</td>\n",
              "      <td>0.0</td>\n",
              "      <td>1.0</td>\n",
              "      <td>0</td>\n",
              "    </tr>\n",
              "    <tr>\n",
              "      <th>2</th>\n",
              "      <td>-1.268315</td>\n",
              "      <td>0.358861</td>\n",
              "      <td>3.775247</td>\n",
              "      <td>-6.347820</td>\n",
              "      <td>-1.598674</td>\n",
              "      <td>0.747250</td>\n",
              "      <td>0.192052</td>\n",
              "      <td>4.0</td>\n",
              "      <td>2.0</td>\n",
              "      <td>6.0</td>\n",
              "      <td>0.0</td>\n",
              "      <td>2.0</td>\n",
              "      <td>0.0</td>\n",
              "      <td>0.0</td>\n",
              "      <td>4.0</td>\n",
              "      <td>2.0</td>\n",
              "      <td>2.0</td>\n",
              "      <td>1</td>\n",
              "    </tr>\n",
              "    <tr>\n",
              "      <th>3</th>\n",
              "      <td>-1.024207</td>\n",
              "      <td>2.080586</td>\n",
              "      <td>-0.336366</td>\n",
              "      <td>0.157538</td>\n",
              "      <td>0.724126</td>\n",
              "      <td>0.476402</td>\n",
              "      <td>-0.596538</td>\n",
              "      <td>4.0</td>\n",
              "      <td>0.0</td>\n",
              "      <td>0.0</td>\n",
              "      <td>0.0</td>\n",
              "      <td>2.0</td>\n",
              "      <td>0.0</td>\n",
              "      <td>0.0</td>\n",
              "      <td>3.0</td>\n",
              "      <td>3.0</td>\n",
              "      <td>1.0</td>\n",
              "      <td>0</td>\n",
              "    </tr>\n",
              "    <tr>\n",
              "      <th>4</th>\n",
              "      <td>-0.228310</td>\n",
              "      <td>-0.790736</td>\n",
              "      <td>-0.336366</td>\n",
              "      <td>0.157538</td>\n",
              "      <td>-1.673603</td>\n",
              "      <td>-1.550012</td>\n",
              "      <td>-1.548284</td>\n",
              "      <td>1.0</td>\n",
              "      <td>1.0</td>\n",
              "      <td>0.0</td>\n",
              "      <td>0.0</td>\n",
              "      <td>2.0</td>\n",
              "      <td>0.0</td>\n",
              "      <td>0.0</td>\n",
              "      <td>6.0</td>\n",
              "      <td>2.0</td>\n",
              "      <td>1.0</td>\n",
              "      <td>0</td>\n",
              "    </tr>\n",
              "  </tbody>\n",
              "</table>\n",
              "</div>"
            ],
            "text/plain": [
              "        age  campaign  previous     pdays  ...  month  day_of_week  poutcome  y\n",
              "0  0.495230 -0.790736 -0.336366  0.157538  ...    1.0          2.0       1.0  0\n",
              "1  1.345441 -0.790736 -0.336366  0.157538  ...    7.0          0.0       1.0  0\n",
              "2 -1.268315  0.358861  3.775247 -6.347820  ...    4.0          2.0       2.0  1\n",
              "3 -1.024207  2.080586 -0.336366  0.157538  ...    3.0          3.0       1.0  0\n",
              "4 -0.228310 -0.790736 -0.336366  0.157538  ...    6.0          2.0       1.0  0\n",
              "\n",
              "[5 rows x 18 columns]"
            ]
          },
          "metadata": {
            "tags": []
          },
          "execution_count": 614
        }
      ]
    },
    {
      "cell_type": "code",
      "metadata": {
        "id": "NuzRDo4oSi0Z"
      },
      "source": [
        "column = ['y']\n",
        "target = pd.DataFrame(df[column], columns=['y'])\n",
        "features = df.drop(columns=['y'])"
      ],
      "execution_count": 615,
      "outputs": []
    },
    {
      "cell_type": "markdown",
      "metadata": {
        "id": "6hX3jw5za3Qc"
      },
      "source": [
        "**<h2>SVD</h2>**"
      ]
    },
    {
      "cell_type": "code",
      "metadata": {
        "id": "9cwnDDdKbbmF"
      },
      "source": [
        "from sklearn.decomposition import TruncatedSVD"
      ],
      "execution_count": 616,
      "outputs": []
    },
    {
      "cell_type": "code",
      "metadata": {
        "colab": {
          "base_uri": "https://localhost:8080/",
          "height": 383
        },
        "id": "5bLIEusGgFsM",
        "outputId": "eb5e205b-56ca-4a92-f790-98f8c1e5c48d"
      },
      "source": [
        "# creating svd object \n",
        "svd = TruncatedSVD(n_components=16)\n",
        "\n",
        "# converting feature set to np array\n",
        "df_arr = features.to_numpy()\n",
        "\n",
        "# fitting and transformation\n",
        "X_transformed = svd.fit_transform(df_arr)\n",
        "\n",
        "\n",
        "# creating transformed feature dataframe\n",
        "v = pd.DataFrame(X_transformed)\n",
        "\n",
        "v.head(10)"
      ],
      "execution_count": 617,
      "outputs": [
        {
          "output_type": "execute_result",
          "data": {
            "text/html": [
              "<div>\n",
              "<style scoped>\n",
              "    .dataframe tbody tr th:only-of-type {\n",
              "        vertical-align: middle;\n",
              "    }\n",
              "\n",
              "    .dataframe tbody tr th {\n",
              "        vertical-align: top;\n",
              "    }\n",
              "\n",
              "    .dataframe thead th {\n",
              "        text-align: right;\n",
              "    }\n",
              "</style>\n",
              "<table border=\"1\" class=\"dataframe\">\n",
              "  <thead>\n",
              "    <tr style=\"text-align: right;\">\n",
              "      <th></th>\n",
              "      <th>0</th>\n",
              "      <th>1</th>\n",
              "      <th>2</th>\n",
              "      <th>3</th>\n",
              "      <th>4</th>\n",
              "      <th>5</th>\n",
              "      <th>6</th>\n",
              "      <th>7</th>\n",
              "      <th>8</th>\n",
              "      <th>9</th>\n",
              "      <th>10</th>\n",
              "      <th>11</th>\n",
              "      <th>12</th>\n",
              "      <th>13</th>\n",
              "      <th>14</th>\n",
              "      <th>15</th>\n",
              "    </tr>\n",
              "  </thead>\n",
              "  <tbody>\n",
              "    <tr>\n",
              "      <th>0</th>\n",
              "      <td>2.105559</td>\n",
              "      <td>-0.110974</td>\n",
              "      <td>-0.597538</td>\n",
              "      <td>0.254358</td>\n",
              "      <td>-2.174485</td>\n",
              "      <td>-0.536493</td>\n",
              "      <td>0.601473</td>\n",
              "      <td>-1.589328</td>\n",
              "      <td>-1.176005</td>\n",
              "      <td>-0.173374</td>\n",
              "      <td>0.534193</td>\n",
              "      <td>-0.134715</td>\n",
              "      <td>-0.276352</td>\n",
              "      <td>-1.039294</td>\n",
              "      <td>0.641658</td>\n",
              "      <td>-0.274583</td>\n",
              "    </tr>\n",
              "    <tr>\n",
              "      <th>1</th>\n",
              "      <td>12.711364</td>\n",
              "      <td>2.098713</td>\n",
              "      <td>-1.152702</td>\n",
              "      <td>-0.217594</td>\n",
              "      <td>3.054629</td>\n",
              "      <td>1.498119</td>\n",
              "      <td>1.472718</td>\n",
              "      <td>1.439146</td>\n",
              "      <td>-0.358991</td>\n",
              "      <td>-0.837760</td>\n",
              "      <td>-0.389706</td>\n",
              "      <td>-0.282715</td>\n",
              "      <td>-0.464564</td>\n",
              "      <td>-0.422701</td>\n",
              "      <td>-0.343281</td>\n",
              "      <td>-0.170223</td>\n",
              "    </tr>\n",
              "    <tr>\n",
              "      <th>2</th>\n",
              "      <td>9.419049</td>\n",
              "      <td>-1.330988</td>\n",
              "      <td>6.896146</td>\n",
              "      <td>-1.075734</td>\n",
              "      <td>-0.117739</td>\n",
              "      <td>0.546211</td>\n",
              "      <td>-1.430446</td>\n",
              "      <td>-1.075703</td>\n",
              "      <td>0.626963</td>\n",
              "      <td>0.174342</td>\n",
              "      <td>-0.041458</td>\n",
              "      <td>-0.370646</td>\n",
              "      <td>0.335412</td>\n",
              "      <td>0.088014</td>\n",
              "      <td>0.015543</td>\n",
              "      <td>-0.164517</td>\n",
              "    </tr>\n",
              "    <tr>\n",
              "      <th>3</th>\n",
              "      <td>4.965716</td>\n",
              "      <td>1.302095</td>\n",
              "      <td>-1.247649</td>\n",
              "      <td>1.724832</td>\n",
              "      <td>-2.216117</td>\n",
              "      <td>-0.756738</td>\n",
              "      <td>-0.987568</td>\n",
              "      <td>-1.454879</td>\n",
              "      <td>2.051588</td>\n",
              "      <td>0.268223</td>\n",
              "      <td>0.219109</td>\n",
              "      <td>-0.538546</td>\n",
              "      <td>-0.697977</td>\n",
              "      <td>0.840830</td>\n",
              "      <td>-0.168813</td>\n",
              "      <td>-0.364670</td>\n",
              "    </tr>\n",
              "    <tr>\n",
              "      <th>4</th>\n",
              "      <td>5.027737</td>\n",
              "      <td>-2.854274</td>\n",
              "      <td>-1.141429</td>\n",
              "      <td>3.853557</td>\n",
              "      <td>0.341099</td>\n",
              "      <td>-1.790556</td>\n",
              "      <td>0.217603</td>\n",
              "      <td>-1.221236</td>\n",
              "      <td>-0.371096</td>\n",
              "      <td>-0.767632</td>\n",
              "      <td>-0.178481</td>\n",
              "      <td>-0.372539</td>\n",
              "      <td>0.128424</td>\n",
              "      <td>0.014048</td>\n",
              "      <td>-0.112778</td>\n",
              "      <td>0.034842</td>\n",
              "    </tr>\n",
              "    <tr>\n",
              "      <th>5</th>\n",
              "      <td>5.371197</td>\n",
              "      <td>-2.976373</td>\n",
              "      <td>-0.971033</td>\n",
              "      <td>2.443038</td>\n",
              "      <td>2.344404</td>\n",
              "      <td>-0.450692</td>\n",
              "      <td>0.765776</td>\n",
              "      <td>-1.208871</td>\n",
              "      <td>-0.385829</td>\n",
              "      <td>-0.839337</td>\n",
              "      <td>-0.439744</td>\n",
              "      <td>-0.498389</td>\n",
              "      <td>-0.385424</td>\n",
              "      <td>0.614296</td>\n",
              "      <td>0.065776</td>\n",
              "      <td>-0.007490</td>\n",
              "    </tr>\n",
              "    <tr>\n",
              "      <th>6</th>\n",
              "      <td>6.535696</td>\n",
              "      <td>-4.369403</td>\n",
              "      <td>6.633344</td>\n",
              "      <td>-1.139379</td>\n",
              "      <td>1.572326</td>\n",
              "      <td>0.038256</td>\n",
              "      <td>-0.170366</td>\n",
              "      <td>0.739225</td>\n",
              "      <td>-0.268642</td>\n",
              "      <td>-1.777431</td>\n",
              "      <td>0.384867</td>\n",
              "      <td>-0.222998</td>\n",
              "      <td>-0.334620</td>\n",
              "      <td>0.013331</td>\n",
              "      <td>0.294918</td>\n",
              "      <td>0.303983</td>\n",
              "    </tr>\n",
              "    <tr>\n",
              "      <th>7</th>\n",
              "      <td>8.396966</td>\n",
              "      <td>-1.975210</td>\n",
              "      <td>-1.217082</td>\n",
              "      <td>-1.327392</td>\n",
              "      <td>1.346081</td>\n",
              "      <td>2.681496</td>\n",
              "      <td>-0.960603</td>\n",
              "      <td>0.770846</td>\n",
              "      <td>-0.566688</td>\n",
              "      <td>-0.005224</td>\n",
              "      <td>0.570272</td>\n",
              "      <td>-0.124024</td>\n",
              "      <td>0.308802</td>\n",
              "      <td>-0.557794</td>\n",
              "      <td>-0.201769</td>\n",
              "      <td>0.264681</td>\n",
              "    </tr>\n",
              "    <tr>\n",
              "      <th>8</th>\n",
              "      <td>6.741926</td>\n",
              "      <td>0.886113</td>\n",
              "      <td>-0.256528</td>\n",
              "      <td>-4.030553</td>\n",
              "      <td>-0.401848</td>\n",
              "      <td>-0.340393</td>\n",
              "      <td>0.660804</td>\n",
              "      <td>-0.890433</td>\n",
              "      <td>-1.094879</td>\n",
              "      <td>-0.096105</td>\n",
              "      <td>0.143919</td>\n",
              "      <td>-0.317426</td>\n",
              "      <td>-0.621042</td>\n",
              "      <td>-0.400391</td>\n",
              "      <td>-0.145174</td>\n",
              "      <td>0.041121</td>\n",
              "    </tr>\n",
              "    <tr>\n",
              "      <th>9</th>\n",
              "      <td>6.209706</td>\n",
              "      <td>1.198770</td>\n",
              "      <td>-0.240851</td>\n",
              "      <td>-3.940831</td>\n",
              "      <td>0.286579</td>\n",
              "      <td>0.736173</td>\n",
              "      <td>1.488606</td>\n",
              "      <td>0.831808</td>\n",
              "      <td>0.150333</td>\n",
              "      <td>-0.421166</td>\n",
              "      <td>0.678008</td>\n",
              "      <td>-0.025977</td>\n",
              "      <td>-0.264989</td>\n",
              "      <td>-0.905067</td>\n",
              "      <td>-0.251602</td>\n",
              "      <td>0.037690</td>\n",
              "    </tr>\n",
              "  </tbody>\n",
              "</table>\n",
              "</div>"
            ],
            "text/plain": [
              "          0         1         2   ...        13        14        15\n",
              "0   2.105559 -0.110974 -0.597538  ... -1.039294  0.641658 -0.274583\n",
              "1  12.711364  2.098713 -1.152702  ... -0.422701 -0.343281 -0.170223\n",
              "2   9.419049 -1.330988  6.896146  ...  0.088014  0.015543 -0.164517\n",
              "3   4.965716  1.302095 -1.247649  ...  0.840830 -0.168813 -0.364670\n",
              "4   5.027737 -2.854274 -1.141429  ...  0.014048 -0.112778  0.034842\n",
              "5   5.371197 -2.976373 -0.971033  ...  0.614296  0.065776 -0.007490\n",
              "6   6.535696 -4.369403  6.633344  ...  0.013331  0.294918  0.303983\n",
              "7   8.396966 -1.975210 -1.217082  ... -0.557794 -0.201769  0.264681\n",
              "8   6.741926  0.886113 -0.256528  ... -0.400391 -0.145174  0.041121\n",
              "9   6.209706  1.198770 -0.240851  ... -0.905067 -0.251602  0.037690\n",
              "\n",
              "[10 rows x 16 columns]"
            ]
          },
          "metadata": {
            "tags": []
          },
          "execution_count": 617
        }
      ]
    },
    {
      "cell_type": "code",
      "metadata": {
        "id": "0IuXBYO6jnSv"
      },
      "source": [
        "from sklearn.model_selection import train_test_split\n",
        "\n",
        "# splitting train and test data\n",
        "X_train, X_test, y_train, y_test = train_test_split(v, target, test_size=0.25)"
      ],
      "execution_count": 618,
      "outputs": []
    },
    {
      "cell_type": "code",
      "metadata": {
        "id": "vqQ7JAFufOs5"
      },
      "source": [
        "# training SVM with linear kernel\n",
        "from sklearn.svm import SVC\n",
        "from sklearn.metrics import accuracy_score\n",
        "import numpy as np\n",
        "y_tr = np.ravel(y_train)\n",
        "clf = SVC(C=1,kernel='linear',cache_size=3000)\n",
        "clf.fit(X_train,y_tr)\n",
        "prediction = clf.predict(X_test)"
      ],
      "execution_count": null,
      "outputs": []
    },
    {
      "cell_type": "code",
      "metadata": {
        "id": "kLLFDfFSitIb",
        "colab": {
          "base_uri": "https://localhost:8080/"
        },
        "outputId": "13d47b14-3d8a-45f6-8369-40103efa1ac8"
      },
      "source": [
        "print(accuracy_score(y_test,prediction))"
      ],
      "execution_count": 620,
      "outputs": [
        {
          "output_type": "stream",
          "text": [
            "0.6875532303199903\n"
          ],
          "name": "stdout"
        }
      ]
    },
    {
      "cell_type": "code",
      "metadata": {
        "id": "KsSvMuEs4NZE",
        "colab": {
          "base_uri": "https://localhost:8080/",
          "height": 308
        },
        "outputId": "a2acc0ff-9b14-4958-d8af-4d06c454095d"
      },
      "source": [
        "# drawing confusion matrix for the prediction\n",
        "from sklearn.metrics import plot_confusion_matrix\n",
        "fig1=plot_confusion_matrix(clf, X_test, y_test,display_labels=[\"YES\",\"NO\"])\n",
        "fig1.figure_.suptitle(\"Confusion Matrix for Bank Dataset\")\n",
        "plt.show()"
      ],
      "execution_count": 621,
      "outputs": [
        {
          "output_type": "display_data",
          "data": {
            "image/png": "[encoded data removed]",
            "text/plain": [
              "<Figure size 432x288 with 2 Axes>"
            ]
          },
          "metadata": {
            "tags": [],
            "needs_background": "light"
          }
        }
      ]
    },
    {
      "cell_type": "code",
      "metadata": {
        "id": "bfZ_TNT5tEBH"
      },
      "source": [
        "# training SVM with rbf kernel\n",
        "cl = SVC(C=1,kernel='rbf',cache_size=4000, gamma=10)\n",
        "cl.fit(X_train,y_tr)\n",
        "prediction = cl.predict(X_test)"
      ],
      "execution_count": 622,
      "outputs": []
    },
    {
      "cell_type": "code",
      "metadata": {
        "id": "r3bPInnwuu7k",
        "colab": {
          "base_uri": "https://localhost:8080/"
        },
        "outputId": "489ccd97-5865-4563-e2c9-7d8dc752509a"
      },
      "source": [
        "print(accuracy_score(y_test,prediction))"
      ],
      "execution_count": 623,
      "outputs": [
        {
          "output_type": "stream",
          "text": [
            "0.8632437036135783\n"
          ],
          "name": "stdout"
        }
      ]
    },
    {
      "cell_type": "code",
      "metadata": {
        "id": "VN5vy_nooJ1Y",
        "colab": {
          "base_uri": "https://localhost:8080/",
          "height": 308
        },
        "outputId": "cae4d9ba-ea80-49da-f28b-533310f037bd"
      },
      "source": [
        "# drawing confusion matrix for the prediction\n",
        "from sklearn.metrics import plot_confusion_matrix\n",
        "fig2=plot_confusion_matrix(cl, X_test, y_test,display_labels=[\"YES\",\"NO\"])\n",
        "fig2.figure_.suptitle(\"Confusion Matrix for Bank Dataset\")\n",
        "plt.show()"
      ],
      "execution_count": 624,
      "outputs": [
        {
          "output_type": "display_data",
          "data": {
            "image/png": "[encoded data removed]",
            "text/plain": [
              "<Figure size 432x288 with 2 Axes>"
            ]
          },
          "metadata": {
            "tags": [],
            "needs_background": "light"
          }
        }
      ]
    }
  ]
}